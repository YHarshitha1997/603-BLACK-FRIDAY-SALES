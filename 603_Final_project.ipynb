{
 "cells": [
  {
   "cell_type": "markdown",
   "id": "7dfaffbf",
   "metadata": {},
   "source": [
    "### Data"
   ]
  },
  {
   "attachments": {},
   "cell_type": "markdown",
   "id": "8fbee5f7",
   "metadata": {},
   "source": [
    "https://www.kaggle.com/sdolezel/black-friday\n"
   ]
  },
  {
   "cell_type": "markdown",
   "id": "4b8ff124",
   "metadata": {},
   "source": [
    "### Introduction:\n",
    "A retail company wants to understand and interpret their customers' purchasing behavior in relation to various products from various categories for the Black Friday sale. The company has access to customer purchase summaries, which include customer demographics, product information, and total purchase amount for selected high volume products sold during the Black Friday period last year. The goal is to create a model that predicts purchasing capacity in relation to various products, which will aid them in customizing deals and discounts for customers against various products, as well as understanding which areas generate the most sales during Black Friday."
   ]
  },
  {
   "cell_type": "markdown",
   "id": "ced61761",
   "metadata": {},
   "source": [
    "### Data Description"
   ]
  },
  {
   "cell_type": "markdown",
   "id": "77283614",
   "metadata": {},
   "source": [
    "1. User Id: Not Unique, maps person to the particular purchase\n",
    "2. Product Id: Not Unique, tells how many purchases are made for a product\n",
    "3. Gender: Have only two variables: F M\n",
    "4. Age: It is divided into 7 ranges, Here Age is Categorical Variable\n",
    "5. Occupation: There are 21 different occupation ranging from 0-21\n",
    "6. City Category: Cities in which customers have lived is categorized into three categories: A, B, C\n",
    "7. Year.. : People have lived in the current city for 0-5 years. Here 5 could mean at least 5 years\n",
    "8. Marital Status: People have their marriage status marked as either 0 or 1\n",
    "9. Product Category 1: Ranges form 1-18\n",
    "10. Product Category 2: Ranges form 2-18\n",
    "11. Product Category 3: Ranges form 3-18\n",
    "12. Purchase: It is the amount people spent in $ for purchases. Not unique.\n"
   ]
  },
  {
   "cell_type": "code",
   "execution_count": 1,
   "id": "9e24396a",
   "metadata": {
    "scrolled": false
   },
   "outputs": [
    {
     "name": "stdout",
     "output_type": "stream",
     "text": [
      "Requirement already satisfied: pymongo in /Users/harshithayentrapragada/opt/anaconda3/lib/python3.8/site-packages (4.1.0)\r\n"
     ]
    }
   ],
   "source": [
    "!pip install pymongo"
   ]
  },
  {
   "cell_type": "markdown",
   "id": "0580efc0",
   "metadata": {},
   "source": [
    "### Importing the Required Libraries"
   ]
  },
  {
   "cell_type": "code",
   "execution_count": 2,
   "id": "4c37c7aa",
   "metadata": {},
   "outputs": [],
   "source": [
    "import pandas as pd\n",
    "import numpy as np\n",
    "import seaborn as sns\n",
    "import matplotlib.pyplot as plt\n",
    "import warnings\n",
    "warnings.simplefilter(action='ignore', category=FutureWarning)"
   ]
  },
  {
   "cell_type": "code",
   "execution_count": 3,
   "id": "babc6ad9",
   "metadata": {},
   "outputs": [],
   "source": [
    "test = pd.read_csv(\"test.csv\")"
   ]
  },
  {
   "cell_type": "code",
   "execution_count": 4,
   "id": "f0bb7568",
   "metadata": {
    "scrolled": false
   },
   "outputs": [
    {
     "data": {
      "text/html": [
       "<div>\n",
       "<style scoped>\n",
       "    .dataframe tbody tr th:only-of-type {\n",
       "        vertical-align: middle;\n",
       "    }\n",
       "\n",
       "    .dataframe tbody tr th {\n",
       "        vertical-align: top;\n",
       "    }\n",
       "\n",
       "    .dataframe thead th {\n",
       "        text-align: right;\n",
       "    }\n",
       "</style>\n",
       "<table border=\"1\" class=\"dataframe\">\n",
       "  <thead>\n",
       "    <tr style=\"text-align: right;\">\n",
       "      <th></th>\n",
       "      <th>User_ID</th>\n",
       "      <th>Product_ID</th>\n",
       "      <th>Gender</th>\n",
       "      <th>Age</th>\n",
       "      <th>Occupation</th>\n",
       "      <th>City_Category</th>\n",
       "      <th>Stay_In_Current_City_Years</th>\n",
       "      <th>Marital_Status</th>\n",
       "      <th>Product_Category_1</th>\n",
       "      <th>Product_Category_2</th>\n",
       "      <th>Product_Category_3</th>\n",
       "    </tr>\n",
       "  </thead>\n",
       "  <tbody>\n",
       "    <tr>\n",
       "      <th>0</th>\n",
       "      <td>1000004</td>\n",
       "      <td>P00128942</td>\n",
       "      <td>M</td>\n",
       "      <td>46-50</td>\n",
       "      <td>7</td>\n",
       "      <td>B</td>\n",
       "      <td>2</td>\n",
       "      <td>1</td>\n",
       "      <td>1</td>\n",
       "      <td>11.0</td>\n",
       "      <td>NaN</td>\n",
       "    </tr>\n",
       "    <tr>\n",
       "      <th>1</th>\n",
       "      <td>1000009</td>\n",
       "      <td>P00113442</td>\n",
       "      <td>M</td>\n",
       "      <td>26-35</td>\n",
       "      <td>17</td>\n",
       "      <td>C</td>\n",
       "      <td>0</td>\n",
       "      <td>0</td>\n",
       "      <td>3</td>\n",
       "      <td>5.0</td>\n",
       "      <td>NaN</td>\n",
       "    </tr>\n",
       "    <tr>\n",
       "      <th>2</th>\n",
       "      <td>1000010</td>\n",
       "      <td>P00288442</td>\n",
       "      <td>F</td>\n",
       "      <td>36-45</td>\n",
       "      <td>1</td>\n",
       "      <td>B</td>\n",
       "      <td>4+</td>\n",
       "      <td>1</td>\n",
       "      <td>5</td>\n",
       "      <td>14.0</td>\n",
       "      <td>NaN</td>\n",
       "    </tr>\n",
       "    <tr>\n",
       "      <th>3</th>\n",
       "      <td>1000010</td>\n",
       "      <td>P00145342</td>\n",
       "      <td>F</td>\n",
       "      <td>36-45</td>\n",
       "      <td>1</td>\n",
       "      <td>B</td>\n",
       "      <td>4+</td>\n",
       "      <td>1</td>\n",
       "      <td>4</td>\n",
       "      <td>9.0</td>\n",
       "      <td>NaN</td>\n",
       "    </tr>\n",
       "    <tr>\n",
       "      <th>4</th>\n",
       "      <td>1000011</td>\n",
       "      <td>P00053842</td>\n",
       "      <td>F</td>\n",
       "      <td>26-35</td>\n",
       "      <td>1</td>\n",
       "      <td>C</td>\n",
       "      <td>1</td>\n",
       "      <td>0</td>\n",
       "      <td>4</td>\n",
       "      <td>5.0</td>\n",
       "      <td>12.0</td>\n",
       "    </tr>\n",
       "  </tbody>\n",
       "</table>\n",
       "</div>"
      ],
      "text/plain": [
       "   User_ID Product_ID Gender    Age  Occupation City_Category  \\\n",
       "0  1000004  P00128942      M  46-50           7             B   \n",
       "1  1000009  P00113442      M  26-35          17             C   \n",
       "2  1000010  P00288442      F  36-45           1             B   \n",
       "3  1000010  P00145342      F  36-45           1             B   \n",
       "4  1000011  P00053842      F  26-35           1             C   \n",
       "\n",
       "  Stay_In_Current_City_Years  Marital_Status  Product_Category_1  \\\n",
       "0                          2               1                   1   \n",
       "1                          0               0                   3   \n",
       "2                         4+               1                   5   \n",
       "3                         4+               1                   4   \n",
       "4                          1               0                   4   \n",
       "\n",
       "   Product_Category_2  Product_Category_3  \n",
       "0                11.0                 NaN  \n",
       "1                 5.0                 NaN  \n",
       "2                14.0                 NaN  \n",
       "3                 9.0                 NaN  \n",
       "4                 5.0                12.0  "
      ]
     },
     "execution_count": 4,
     "metadata": {},
     "output_type": "execute_result"
    }
   ],
   "source": [
    "test.head()"
   ]
  },
  {
   "cell_type": "markdown",
   "id": "72fec7a8",
   "metadata": {},
   "source": [
    "### Retrieving data information"
   ]
  },
  {
   "cell_type": "code",
   "execution_count": 5,
   "id": "db2d519a",
   "metadata": {
    "scrolled": true
   },
   "outputs": [
    {
     "name": "stdout",
     "output_type": "stream",
     "text": [
      "<class 'pandas.core.frame.DataFrame'>\n",
      "RangeIndex: 233599 entries, 0 to 233598\n",
      "Data columns (total 11 columns):\n",
      " #   Column                      Non-Null Count   Dtype  \n",
      "---  ------                      --------------   -----  \n",
      " 0   User_ID                     233599 non-null  int64  \n",
      " 1   Product_ID                  233599 non-null  object \n",
      " 2   Gender                      233599 non-null  object \n",
      " 3   Age                         233599 non-null  object \n",
      " 4   Occupation                  233599 non-null  int64  \n",
      " 5   City_Category               233599 non-null  object \n",
      " 6   Stay_In_Current_City_Years  233599 non-null  object \n",
      " 7   Marital_Status              233599 non-null  int64  \n",
      " 8   Product_Category_1          233599 non-null  int64  \n",
      " 9   Product_Category_2          161255 non-null  float64\n",
      " 10  Product_Category_3          71037 non-null   float64\n",
      "dtypes: float64(2), int64(4), object(5)\n",
      "memory usage: 19.6+ MB\n"
     ]
    }
   ],
   "source": [
    "test.info()"
   ]
  },
  {
   "cell_type": "markdown",
   "id": "cbb5dba0",
   "metadata": {},
   "source": [
    "### Retrieving columns"
   ]
  },
  {
   "cell_type": "code",
   "execution_count": 6,
   "id": "5f2139e9",
   "metadata": {},
   "outputs": [
    {
     "data": {
      "text/plain": [
       "Index(['User_ID', 'Product_ID', 'Gender', 'Age', 'Occupation', 'City_Category',\n",
       "       'Stay_In_Current_City_Years', 'Marital_Status', 'Product_Category_1',\n",
       "       'Product_Category_2', 'Product_Category_3'],\n",
       "      dtype='object')"
      ]
     },
     "execution_count": 6,
     "metadata": {},
     "output_type": "execute_result"
    }
   ],
   "source": [
    "test.columns"
   ]
  },
  {
   "cell_type": "code",
   "execution_count": 7,
   "id": "65b1b4de",
   "metadata": {
    "scrolled": true
   },
   "outputs": [
    {
     "data": {
      "text/plain": [
       "(233599, 11)"
      ]
     },
     "execution_count": 7,
     "metadata": {},
     "output_type": "execute_result"
    }
   ],
   "source": [
    "test.shape"
   ]
  },
  {
   "cell_type": "markdown",
   "id": "d5f1425b",
   "metadata": {},
   "source": [
    "### Check for Null values"
   ]
  },
  {
   "cell_type": "code",
   "execution_count": 8,
   "id": "aba4ced3",
   "metadata": {},
   "outputs": [
    {
     "data": {
      "text/plain": [
       "User_ID                            0\n",
       "Product_ID                         0\n",
       "Gender                             0\n",
       "Age                                0\n",
       "Occupation                         0\n",
       "City_Category                      0\n",
       "Stay_In_Current_City_Years         0\n",
       "Marital_Status                     0\n",
       "Product_Category_1                 0\n",
       "Product_Category_2             72344\n",
       "Product_Category_3            162562\n",
       "dtype: int64"
      ]
     },
     "execution_count": 8,
     "metadata": {},
     "output_type": "execute_result"
    }
   ],
   "source": [
    "test.isnull().sum()"
   ]
  },
  {
   "cell_type": "code",
   "execution_count": 9,
   "id": "8e84ff2e",
   "metadata": {},
   "outputs": [],
   "source": [
    "train = pd.read_csv(\"train.csv\")"
   ]
  },
  {
   "cell_type": "code",
   "execution_count": 10,
   "id": "63109f81",
   "metadata": {
    "scrolled": true
   },
   "outputs": [
    {
     "data": {
      "text/html": [
       "<div>\n",
       "<style scoped>\n",
       "    .dataframe tbody tr th:only-of-type {\n",
       "        vertical-align: middle;\n",
       "    }\n",
       "\n",
       "    .dataframe tbody tr th {\n",
       "        vertical-align: top;\n",
       "    }\n",
       "\n",
       "    .dataframe thead th {\n",
       "        text-align: right;\n",
       "    }\n",
       "</style>\n",
       "<table border=\"1\" class=\"dataframe\">\n",
       "  <thead>\n",
       "    <tr style=\"text-align: right;\">\n",
       "      <th></th>\n",
       "      <th>User_ID</th>\n",
       "      <th>Product_ID</th>\n",
       "      <th>Gender</th>\n",
       "      <th>Age</th>\n",
       "      <th>Occupation</th>\n",
       "      <th>City_Category</th>\n",
       "      <th>Stay_In_Current_City_Years</th>\n",
       "      <th>Marital_Status</th>\n",
       "      <th>Product_Category_1</th>\n",
       "      <th>Product_Category_2</th>\n",
       "      <th>Product_Category_3</th>\n",
       "      <th>Purchase</th>\n",
       "    </tr>\n",
       "  </thead>\n",
       "  <tbody>\n",
       "    <tr>\n",
       "      <th>0</th>\n",
       "      <td>1000001</td>\n",
       "      <td>P00069042</td>\n",
       "      <td>F</td>\n",
       "      <td>0-17</td>\n",
       "      <td>10</td>\n",
       "      <td>A</td>\n",
       "      <td>2</td>\n",
       "      <td>0</td>\n",
       "      <td>3</td>\n",
       "      <td>NaN</td>\n",
       "      <td>NaN</td>\n",
       "      <td>8370</td>\n",
       "    </tr>\n",
       "    <tr>\n",
       "      <th>1</th>\n",
       "      <td>1000001</td>\n",
       "      <td>P00248942</td>\n",
       "      <td>F</td>\n",
       "      <td>0-17</td>\n",
       "      <td>10</td>\n",
       "      <td>A</td>\n",
       "      <td>2</td>\n",
       "      <td>0</td>\n",
       "      <td>1</td>\n",
       "      <td>6.0</td>\n",
       "      <td>14.0</td>\n",
       "      <td>15200</td>\n",
       "    </tr>\n",
       "    <tr>\n",
       "      <th>2</th>\n",
       "      <td>1000001</td>\n",
       "      <td>P00087842</td>\n",
       "      <td>F</td>\n",
       "      <td>0-17</td>\n",
       "      <td>10</td>\n",
       "      <td>A</td>\n",
       "      <td>2</td>\n",
       "      <td>0</td>\n",
       "      <td>12</td>\n",
       "      <td>NaN</td>\n",
       "      <td>NaN</td>\n",
       "      <td>1422</td>\n",
       "    </tr>\n",
       "    <tr>\n",
       "      <th>3</th>\n",
       "      <td>1000001</td>\n",
       "      <td>P00085442</td>\n",
       "      <td>F</td>\n",
       "      <td>0-17</td>\n",
       "      <td>10</td>\n",
       "      <td>A</td>\n",
       "      <td>2</td>\n",
       "      <td>0</td>\n",
       "      <td>12</td>\n",
       "      <td>14.0</td>\n",
       "      <td>NaN</td>\n",
       "      <td>1057</td>\n",
       "    </tr>\n",
       "    <tr>\n",
       "      <th>4</th>\n",
       "      <td>1000002</td>\n",
       "      <td>P00285442</td>\n",
       "      <td>M</td>\n",
       "      <td>55+</td>\n",
       "      <td>16</td>\n",
       "      <td>C</td>\n",
       "      <td>4+</td>\n",
       "      <td>0</td>\n",
       "      <td>8</td>\n",
       "      <td>NaN</td>\n",
       "      <td>NaN</td>\n",
       "      <td>7969</td>\n",
       "    </tr>\n",
       "  </tbody>\n",
       "</table>\n",
       "</div>"
      ],
      "text/plain": [
       "   User_ID Product_ID Gender   Age  Occupation City_Category  \\\n",
       "0  1000001  P00069042      F  0-17          10             A   \n",
       "1  1000001  P00248942      F  0-17          10             A   \n",
       "2  1000001  P00087842      F  0-17          10             A   \n",
       "3  1000001  P00085442      F  0-17          10             A   \n",
       "4  1000002  P00285442      M   55+          16             C   \n",
       "\n",
       "  Stay_In_Current_City_Years  Marital_Status  Product_Category_1  \\\n",
       "0                          2               0                   3   \n",
       "1                          2               0                   1   \n",
       "2                          2               0                  12   \n",
       "3                          2               0                  12   \n",
       "4                         4+               0                   8   \n",
       "\n",
       "   Product_Category_2  Product_Category_3  Purchase  \n",
       "0                 NaN                 NaN      8370  \n",
       "1                 6.0                14.0     15200  \n",
       "2                 NaN                 NaN      1422  \n",
       "3                14.0                 NaN      1057  \n",
       "4                 NaN                 NaN      7969  "
      ]
     },
     "execution_count": 10,
     "metadata": {},
     "output_type": "execute_result"
    }
   ],
   "source": [
    "train.head()"
   ]
  },
  {
   "cell_type": "code",
   "execution_count": 11,
   "id": "f467b9c8",
   "metadata": {
    "scrolled": true
   },
   "outputs": [
    {
     "name": "stdout",
     "output_type": "stream",
     "text": [
      "<class 'pandas.core.frame.DataFrame'>\n",
      "RangeIndex: 550068 entries, 0 to 550067\n",
      "Data columns (total 12 columns):\n",
      " #   Column                      Non-Null Count   Dtype  \n",
      "---  ------                      --------------   -----  \n",
      " 0   User_ID                     550068 non-null  int64  \n",
      " 1   Product_ID                  550068 non-null  object \n",
      " 2   Gender                      550068 non-null  object \n",
      " 3   Age                         550068 non-null  object \n",
      " 4   Occupation                  550068 non-null  int64  \n",
      " 5   City_Category               550068 non-null  object \n",
      " 6   Stay_In_Current_City_Years  550068 non-null  object \n",
      " 7   Marital_Status              550068 non-null  int64  \n",
      " 8   Product_Category_1          550068 non-null  int64  \n",
      " 9   Product_Category_2          376430 non-null  float64\n",
      " 10  Product_Category_3          166821 non-null  float64\n",
      " 11  Purchase                    550068 non-null  int64  \n",
      "dtypes: float64(2), int64(5), object(5)\n",
      "memory usage: 50.4+ MB\n"
     ]
    }
   ],
   "source": [
    "train.info()"
   ]
  },
  {
   "cell_type": "code",
   "execution_count": 12,
   "id": "297c33b9",
   "metadata": {},
   "outputs": [
    {
     "data": {
      "text/plain": [
       "(550068, 12)"
      ]
     },
     "execution_count": 12,
     "metadata": {},
     "output_type": "execute_result"
    }
   ],
   "source": [
    "train.shape"
   ]
  },
  {
   "cell_type": "code",
   "execution_count": 13,
   "id": "1490941c",
   "metadata": {},
   "outputs": [
    {
     "name": "stdout",
     "output_type": "stream",
     "text": [
      "<class 'pandas.core.frame.DataFrame'>\n",
      "RangeIndex: 550068 entries, 0 to 550067\n",
      "Data columns (total 12 columns):\n",
      " #   Column                      Non-Null Count   Dtype  \n",
      "---  ------                      --------------   -----  \n",
      " 0   User_ID                     550068 non-null  int64  \n",
      " 1   Product_ID                  550068 non-null  object \n",
      " 2   Gender                      550068 non-null  object \n",
      " 3   Age                         550068 non-null  object \n",
      " 4   Occupation                  550068 non-null  int64  \n",
      " 5   City_Category               550068 non-null  object \n",
      " 6   Stay_In_Current_City_Years  550068 non-null  object \n",
      " 7   Marital_Status              550068 non-null  int64  \n",
      " 8   Product_Category_1          550068 non-null  int64  \n",
      " 9   Product_Category_2          376430 non-null  float64\n",
      " 10  Product_Category_3          166821 non-null  float64\n",
      " 11  Purchase                    550068 non-null  int64  \n",
      "dtypes: float64(2), int64(5), object(5)\n",
      "memory usage: 50.4+ MB\n"
     ]
    }
   ],
   "source": [
    "train.info()"
   ]
  },
  {
   "cell_type": "code",
   "execution_count": 14,
   "id": "351eebac",
   "metadata": {},
   "outputs": [
    {
     "data": {
      "text/plain": [
       "(550068, 12)"
      ]
     },
     "execution_count": 14,
     "metadata": {},
     "output_type": "execute_result"
    }
   ],
   "source": [
    "train.shape"
   ]
  },
  {
   "cell_type": "code",
   "execution_count": 15,
   "id": "c36abe3e",
   "metadata": {},
   "outputs": [
    {
     "data": {
      "text/plain": [
       "Index(['User_ID', 'Product_ID', 'Gender', 'Age', 'Occupation', 'City_Category',\n",
       "       'Stay_In_Current_City_Years', 'Marital_Status', 'Product_Category_1',\n",
       "       'Product_Category_2', 'Product_Category_3', 'Purchase'],\n",
       "      dtype='object')"
      ]
     },
     "execution_count": 15,
     "metadata": {},
     "output_type": "execute_result"
    }
   ],
   "source": [
    "train.columns"
   ]
  },
  {
   "cell_type": "code",
   "execution_count": 16,
   "id": "37d75177",
   "metadata": {
    "scrolled": false
   },
   "outputs": [
    {
     "data": {
      "text/plain": [
       "User_ID                            0\n",
       "Product_ID                         0\n",
       "Gender                             0\n",
       "Age                                0\n",
       "Occupation                         0\n",
       "City_Category                      0\n",
       "Stay_In_Current_City_Years         0\n",
       "Marital_Status                     0\n",
       "Product_Category_1                 0\n",
       "Product_Category_2            173638\n",
       "Product_Category_3            383247\n",
       "Purchase                           0\n",
       "dtype: int64"
      ]
     },
     "execution_count": 16,
     "metadata": {},
     "output_type": "execute_result"
    }
   ],
   "source": [
    "train.isnull().sum()"
   ]
  },
  {
   "cell_type": "code",
   "execution_count": 17,
   "id": "d2f90170",
   "metadata": {},
   "outputs": [
    {
     "data": {
      "text/plain": [
       "User_ID                         int64\n",
       "Product_ID                     object\n",
       "Gender                         object\n",
       "Age                            object\n",
       "Occupation                      int64\n",
       "City_Category                  object\n",
       "Stay_In_Current_City_Years     object\n",
       "Marital_Status                  int64\n",
       "Product_Category_1              int64\n",
       "Product_Category_2            float64\n",
       "Product_Category_3            float64\n",
       "Purchase                        int64\n",
       "dtype: object"
      ]
     },
     "execution_count": 17,
     "metadata": {},
     "output_type": "execute_result"
    }
   ],
   "source": [
    "train.dtypes"
   ]
  },
  {
   "cell_type": "markdown",
   "id": "818dca4d",
   "metadata": {},
   "source": [
    "### Visualizing data  types"
   ]
  },
  {
   "cell_type": "code",
   "execution_count": 18,
   "id": "591044c5",
   "metadata": {
    "scrolled": false
   },
   "outputs": [
    {
     "data": {
      "image/png": "[encoded data removed]",
      "text/plain": [
       "<Figure size 432x288 with 1 Axes>"
      ]
     },
     "metadata": {},
     "output_type": "display_data"
    }
   ],
   "source": [
    "train.dtypes.value_counts().plot.pie(explode=[0.1,0.1,0.1],autopct='%1.2f%%',shadow=True)\n",
    "plt.title('My Data');"
   ]
  },
  {
   "cell_type": "markdown",
   "id": "ca1b3eef",
   "metadata": {},
   "source": [
    "- Most of the columns are integer and object data types "
   ]
  },
  {
   "cell_type": "code",
   "execution_count": 19,
   "id": "934b5117",
   "metadata": {},
   "outputs": [
    {
     "data": {
      "text/plain": [
       "array([nan,  6., 14.,  2.,  8., 15., 16., 11.,  5.,  3.,  4., 12.,  9.,\n",
       "       10., 17., 13.,  7., 18.])"
      ]
     },
     "execution_count": 19,
     "metadata": {},
     "output_type": "execute_result"
    }
   ],
   "source": [
    "train[\"Product_Category_2\"].unique()"
   ]
  },
  {
   "cell_type": "code",
   "execution_count": 20,
   "id": "fe6cc9c6",
   "metadata": {
    "scrolled": true
   },
   "outputs": [
    {
     "data": {
      "text/plain": [
       "8.0     64088\n",
       "14.0    55108\n",
       "2.0     49217\n",
       "16.0    43255\n",
       "15.0    37855\n",
       "5.0     26235\n",
       "4.0     25677\n",
       "6.0     16466\n",
       "11.0    14134\n",
       "17.0    13320\n",
       "13.0    10531\n",
       "9.0      5693\n",
       "12.0     5528\n",
       "10.0     3043\n",
       "3.0      2884\n",
       "18.0     2770\n",
       "7.0       626\n",
       "Name: Product_Category_2, dtype: int64"
      ]
     },
     "execution_count": 20,
     "metadata": {},
     "output_type": "execute_result"
    }
   ],
   "source": [
    "train[\"Product_Category_2\"].value_counts()"
   ]
  },
  {
   "cell_type": "code",
   "execution_count": 21,
   "id": "82fbd0db",
   "metadata": {},
   "outputs": [
    {
     "data": {
      "text/plain": [
       "User_ID                         int64\n",
       "Product_ID                     object\n",
       "Gender                         object\n",
       "Age                            object\n",
       "Occupation                      int64\n",
       "City_Category                  object\n",
       "Stay_In_Current_City_Years     object\n",
       "Marital_Status                  int64\n",
       "Product_Category_1              int64\n",
       "Product_Category_2            float64\n",
       "Product_Category_3            float64\n",
       "Purchase                        int64\n",
       "dtype: object"
      ]
     },
     "execution_count": 21,
     "metadata": {},
     "output_type": "execute_result"
    }
   ],
   "source": [
    "train.dtypes"
   ]
  },
  {
   "cell_type": "markdown",
   "id": "d089831c",
   "metadata": {},
   "source": [
    "### Filling missing values using mean"
   ]
  },
  {
   "cell_type": "code",
   "execution_count": 22,
   "id": "53437c52",
   "metadata": {},
   "outputs": [],
   "source": [
    "Pdct_Cat_2_mean = int(train['Product_Category_2'].mean())"
   ]
  },
  {
   "cell_type": "code",
   "execution_count": 23,
   "id": "cc1b8587",
   "metadata": {},
   "outputs": [],
   "source": [
    "train['Product_Category_2']=train['Product_Category_2'].fillna(Pdct_Cat_2_mean).astype(int)"
   ]
  },
  {
   "cell_type": "code",
   "execution_count": 24,
   "id": "6c1c3d3d",
   "metadata": {
    "scrolled": true
   },
   "outputs": [
    {
     "data": {
      "text/plain": [
       "0"
      ]
     },
     "execution_count": 24,
     "metadata": {},
     "output_type": "execute_result"
    }
   ],
   "source": [
    "train[\"Product_Category_2\"].isnull().sum()"
   ]
  },
  {
   "cell_type": "code",
   "execution_count": 25,
   "id": "29dc3071",
   "metadata": {},
   "outputs": [
    {
     "data": {
      "text/plain": [
       "16.0    32636\n",
       "15.0    28013\n",
       "14.0    18428\n",
       "17.0    16702\n",
       "5.0     16658\n",
       "8.0     12562\n",
       "9.0     11579\n",
       "12.0     9246\n",
       "13.0     5459\n",
       "6.0      4890\n",
       "18.0     4629\n",
       "4.0      1875\n",
       "11.0     1805\n",
       "10.0     1726\n",
       "3.0       613\n",
       "Name: Product_Category_3, dtype: int64"
      ]
     },
     "execution_count": 25,
     "metadata": {},
     "output_type": "execute_result"
    }
   ],
   "source": [
    "train[\"Product_Category_3\"].value_counts()"
   ]
  },
  {
   "cell_type": "code",
   "execution_count": 26,
   "id": "26648f50",
   "metadata": {},
   "outputs": [],
   "source": [
    "Pdct_Cat_3_mean = int(train['Product_Category_3'].mean())"
   ]
  },
  {
   "cell_type": "code",
   "execution_count": 27,
   "id": "47e4ce6f",
   "metadata": {},
   "outputs": [],
   "source": [
    "train['Product_Category_3']=train['Product_Category_3'].fillna(Pdct_Cat_3_mean).astype(int)"
   ]
  },
  {
   "cell_type": "code",
   "execution_count": 28,
   "id": "f8b2a418",
   "metadata": {},
   "outputs": [
    {
     "data": {
      "text/plain": [
       "0"
      ]
     },
     "execution_count": 28,
     "metadata": {},
     "output_type": "execute_result"
    }
   ],
   "source": [
    "train['Product_Category_3'].isnull().sum()"
   ]
  },
  {
   "cell_type": "code",
   "execution_count": 29,
   "id": "c45a2d1a",
   "metadata": {
    "scrolled": true
   },
   "outputs": [
    {
     "data": {
      "text/plain": [
       "User_ID                       0\n",
       "Product_ID                    0\n",
       "Gender                        0\n",
       "Age                           0\n",
       "Occupation                    0\n",
       "City_Category                 0\n",
       "Stay_In_Current_City_Years    0\n",
       "Marital_Status                0\n",
       "Product_Category_1            0\n",
       "Product_Category_2            0\n",
       "Product_Category_3            0\n",
       "Purchase                      0\n",
       "dtype: int64"
      ]
     },
     "execution_count": 29,
     "metadata": {},
     "output_type": "execute_result"
    }
   ],
   "source": [
    "train.isnull().sum()"
   ]
  },
  {
   "cell_type": "code",
   "execution_count": 30,
   "id": "db2b4db7",
   "metadata": {},
   "outputs": [
    {
     "data": {
      "text/plain": [
       "User_ID                        int64\n",
       "Product_ID                    object\n",
       "Gender                        object\n",
       "Age                           object\n",
       "Occupation                     int64\n",
       "City_Category                 object\n",
       "Stay_In_Current_City_Years    object\n",
       "Marital_Status                 int64\n",
       "Product_Category_1             int64\n",
       "Product_Category_2             int64\n",
       "Product_Category_3             int64\n",
       "Purchase                       int64\n",
       "dtype: object"
      ]
     },
     "execution_count": 30,
     "metadata": {},
     "output_type": "execute_result"
    }
   ],
   "source": [
    "train.dtypes"
   ]
  },
  {
   "cell_type": "markdown",
   "id": "c757b9c7",
   "metadata": {},
   "source": [
    "### Converting data types to required format"
   ]
  },
  {
   "cell_type": "code",
   "execution_count": 31,
   "id": "6dca5b1d",
   "metadata": {},
   "outputs": [
    {
     "data": {
      "text/plain": [
       "array(['2', '4+', '3', '1', '0'], dtype=object)"
      ]
     },
     "execution_count": 31,
     "metadata": {},
     "output_type": "execute_result"
    }
   ],
   "source": [
    "train['Stay_In_Current_City_Years'].unique()"
   ]
  },
  {
   "cell_type": "code",
   "execution_count": 32,
   "id": "2d781ef0",
   "metadata": {},
   "outputs": [],
   "source": [
    "train[\"Stay_In_Current_City_Years\"]=train[\"Stay_In_Current_City_Years\"].str.replace('+',\"\")"
   ]
  },
  {
   "cell_type": "code",
   "execution_count": 33,
   "id": "aacc4c6d",
   "metadata": {},
   "outputs": [
    {
     "data": {
      "text/plain": [
       "array(['2', '4', '3', '1', '0'], dtype=object)"
      ]
     },
     "execution_count": 33,
     "metadata": {},
     "output_type": "execute_result"
    }
   ],
   "source": [
    "train['Stay_In_Current_City_Years'].unique()"
   ]
  },
  {
   "cell_type": "code",
   "execution_count": 34,
   "id": "6d57c9e8",
   "metadata": {},
   "outputs": [],
   "source": [
    "train[\"Stay_In_Current_City_Years\"] = train[\"Stay_In_Current_City_Years\"].astype(int)"
   ]
  },
  {
   "cell_type": "code",
   "execution_count": 35,
   "id": "004fce43",
   "metadata": {},
   "outputs": [
    {
     "data": {
      "text/plain": [
       "array(['A', 'C', 'B'], dtype=object)"
      ]
     },
     "execution_count": 35,
     "metadata": {},
     "output_type": "execute_result"
    }
   ],
   "source": [
    "train['City_Category'].unique()"
   ]
  },
  {
   "cell_type": "markdown",
   "id": "a17da23f",
   "metadata": {},
   "source": [
    "### Replacing city category values with 1,2,3"
   ]
  },
  {
   "cell_type": "code",
   "execution_count": 36,
   "id": "e50b3415",
   "metadata": {},
   "outputs": [],
   "source": [
    "train[\"City_Category\"]=train[\"City_Category\"].str.replace('A',\"1\")\n",
    "train[\"City_Category\"]=train[\"City_Category\"].str.replace('B',\"2\")\n",
    "train[\"City_Category\"]=train[\"City_Category\"].str.replace('C',\"3\")"
   ]
  },
  {
   "cell_type": "code",
   "execution_count": 37,
   "id": "0b0bd6a3",
   "metadata": {},
   "outputs": [
    {
     "data": {
      "text/plain": [
       "array(['1', '3', '2'], dtype=object)"
      ]
     },
     "execution_count": 37,
     "metadata": {},
     "output_type": "execute_result"
    }
   ],
   "source": [
    "train['City_Category'].unique()"
   ]
  },
  {
   "cell_type": "code",
   "execution_count": 38,
   "id": "a4794a28",
   "metadata": {},
   "outputs": [
    {
     "data": {
      "text/html": [
       "<div>\n",
       "<style scoped>\n",
       "    .dataframe tbody tr th:only-of-type {\n",
       "        vertical-align: middle;\n",
       "    }\n",
       "\n",
       "    .dataframe tbody tr th {\n",
       "        vertical-align: top;\n",
       "    }\n",
       "\n",
       "    .dataframe thead th {\n",
       "        text-align: right;\n",
       "    }\n",
       "</style>\n",
       "<table border=\"1\" class=\"dataframe\">\n",
       "  <thead>\n",
       "    <tr style=\"text-align: right;\">\n",
       "      <th></th>\n",
       "      <th>User_ID</th>\n",
       "      <th>Product_ID</th>\n",
       "      <th>Gender</th>\n",
       "      <th>Age</th>\n",
       "      <th>Occupation</th>\n",
       "      <th>City_Category</th>\n",
       "      <th>Stay_In_Current_City_Years</th>\n",
       "      <th>Marital_Status</th>\n",
       "      <th>Product_Category_1</th>\n",
       "      <th>Product_Category_2</th>\n",
       "      <th>Product_Category_3</th>\n",
       "      <th>Purchase</th>\n",
       "    </tr>\n",
       "  </thead>\n",
       "  <tbody>\n",
       "    <tr>\n",
       "      <th>0</th>\n",
       "      <td>1000001</td>\n",
       "      <td>P00069042</td>\n",
       "      <td>F</td>\n",
       "      <td>0-17</td>\n",
       "      <td>10</td>\n",
       "      <td>1</td>\n",
       "      <td>2</td>\n",
       "      <td>0</td>\n",
       "      <td>3</td>\n",
       "      <td>9</td>\n",
       "      <td>12</td>\n",
       "      <td>8370</td>\n",
       "    </tr>\n",
       "    <tr>\n",
       "      <th>1</th>\n",
       "      <td>1000001</td>\n",
       "      <td>P00248942</td>\n",
       "      <td>F</td>\n",
       "      <td>0-17</td>\n",
       "      <td>10</td>\n",
       "      <td>1</td>\n",
       "      <td>2</td>\n",
       "      <td>0</td>\n",
       "      <td>1</td>\n",
       "      <td>6</td>\n",
       "      <td>14</td>\n",
       "      <td>15200</td>\n",
       "    </tr>\n",
       "    <tr>\n",
       "      <th>2</th>\n",
       "      <td>1000001</td>\n",
       "      <td>P00087842</td>\n",
       "      <td>F</td>\n",
       "      <td>0-17</td>\n",
       "      <td>10</td>\n",
       "      <td>1</td>\n",
       "      <td>2</td>\n",
       "      <td>0</td>\n",
       "      <td>12</td>\n",
       "      <td>9</td>\n",
       "      <td>12</td>\n",
       "      <td>1422</td>\n",
       "    </tr>\n",
       "    <tr>\n",
       "      <th>3</th>\n",
       "      <td>1000001</td>\n",
       "      <td>P00085442</td>\n",
       "      <td>F</td>\n",
       "      <td>0-17</td>\n",
       "      <td>10</td>\n",
       "      <td>1</td>\n",
       "      <td>2</td>\n",
       "      <td>0</td>\n",
       "      <td>12</td>\n",
       "      <td>14</td>\n",
       "      <td>12</td>\n",
       "      <td>1057</td>\n",
       "    </tr>\n",
       "    <tr>\n",
       "      <th>4</th>\n",
       "      <td>1000002</td>\n",
       "      <td>P00285442</td>\n",
       "      <td>M</td>\n",
       "      <td>55+</td>\n",
       "      <td>16</td>\n",
       "      <td>3</td>\n",
       "      <td>4</td>\n",
       "      <td>0</td>\n",
       "      <td>8</td>\n",
       "      <td>9</td>\n",
       "      <td>12</td>\n",
       "      <td>7969</td>\n",
       "    </tr>\n",
       "  </tbody>\n",
       "</table>\n",
       "</div>"
      ],
      "text/plain": [
       "   User_ID Product_ID Gender   Age  Occupation City_Category  \\\n",
       "0  1000001  P00069042      F  0-17          10             1   \n",
       "1  1000001  P00248942      F  0-17          10             1   \n",
       "2  1000001  P00087842      F  0-17          10             1   \n",
       "3  1000001  P00085442      F  0-17          10             1   \n",
       "4  1000002  P00285442      M   55+          16             3   \n",
       "\n",
       "   Stay_In_Current_City_Years  Marital_Status  Product_Category_1  \\\n",
       "0                           2               0                   3   \n",
       "1                           2               0                   1   \n",
       "2                           2               0                  12   \n",
       "3                           2               0                  12   \n",
       "4                           4               0                   8   \n",
       "\n",
       "   Product_Category_2  Product_Category_3  Purchase  \n",
       "0                   9                  12      8370  \n",
       "1                   6                  14     15200  \n",
       "2                   9                  12      1422  \n",
       "3                  14                  12      1057  \n",
       "4                   9                  12      7969  "
      ]
     },
     "execution_count": 38,
     "metadata": {},
     "output_type": "execute_result"
    }
   ],
   "source": [
    "train.head()"
   ]
  },
  {
   "cell_type": "markdown",
   "id": "c7d2692b",
   "metadata": {},
   "source": [
    "### Converting city category to int"
   ]
  },
  {
   "cell_type": "code",
   "execution_count": 39,
   "id": "cf2e490e",
   "metadata": {},
   "outputs": [],
   "source": [
    "train[\"City_Category\"]= train[\"City_Category\"].astype(int)"
   ]
  },
  {
   "cell_type": "code",
   "execution_count": 40,
   "id": "65cb0416",
   "metadata": {
    "scrolled": true
   },
   "outputs": [
    {
     "data": {
      "text/plain": [
       "User_ID                        int64\n",
       "Product_ID                    object\n",
       "Gender                        object\n",
       "Age                           object\n",
       "Occupation                     int64\n",
       "City_Category                  int64\n",
       "Stay_In_Current_City_Years     int64\n",
       "Marital_Status                 int64\n",
       "Product_Category_1             int64\n",
       "Product_Category_2             int64\n",
       "Product_Category_3             int64\n",
       "Purchase                       int64\n",
       "dtype: object"
      ]
     },
     "execution_count": 40,
     "metadata": {},
     "output_type": "execute_result"
    }
   ],
   "source": [
    "train.dtypes"
   ]
  },
  {
   "cell_type": "code",
   "execution_count": 41,
   "id": "87eda5b9",
   "metadata": {},
   "outputs": [
    {
     "data": {
      "text/plain": [
       "array(['0-17', '55+', '26-35', '46-50', '51-55', '36-45', '18-25'],\n",
       "      dtype=object)"
      ]
     },
     "execution_count": 41,
     "metadata": {},
     "output_type": "execute_result"
    }
   ],
   "source": [
    "train[\"Age\"].unique()"
   ]
  },
  {
   "cell_type": "markdown",
   "id": "cc5cb4e0",
   "metadata": {},
   "source": [
    "### Converting Age into Range"
   ]
  },
  {
   "cell_type": "code",
   "execution_count": 42,
   "id": "1fa1790e",
   "metadata": {},
   "outputs": [],
   "source": [
    "train[\"Age\"] =train[\"Age\"].map({\n",
    "    '0-17': 1,\n",
    "    '18-25': 2,\n",
    "    '26-35': 3,\n",
    "    '36-45' : 4,\n",
    "    '46-50' : 5,\n",
    "    '51-55' : 6,\n",
    "    '55+' : 7     \n",
    "})"
   ]
  },
  {
   "cell_type": "code",
   "execution_count": 43,
   "id": "b4d97112",
   "metadata": {},
   "outputs": [
    {
     "data": {
      "text/plain": [
       "array([1, 7, 3, 5, 6, 4, 2])"
      ]
     },
     "execution_count": 43,
     "metadata": {},
     "output_type": "execute_result"
    }
   ],
   "source": [
    "train[\"Age\"].unique()"
   ]
  },
  {
   "cell_type": "code",
   "execution_count": 44,
   "id": "dd3d7d90",
   "metadata": {},
   "outputs": [],
   "source": [
    "train[\"Age\"]= train[\"Age\"].astype(int)"
   ]
  },
  {
   "cell_type": "code",
   "execution_count": 45,
   "id": "575226d9",
   "metadata": {
    "scrolled": false
   },
   "outputs": [
    {
     "name": "stdout",
     "output_type": "stream",
     "text": [
      "<class 'pandas.core.frame.DataFrame'>\n",
      "RangeIndex: 550068 entries, 0 to 550067\n",
      "Data columns (total 12 columns):\n",
      " #   Column                      Non-Null Count   Dtype \n",
      "---  ------                      --------------   ----- \n",
      " 0   User_ID                     550068 non-null  int64 \n",
      " 1   Product_ID                  550068 non-null  object\n",
      " 2   Gender                      550068 non-null  object\n",
      " 3   Age                         550068 non-null  int64 \n",
      " 4   Occupation                  550068 non-null  int64 \n",
      " 5   City_Category               550068 non-null  int64 \n",
      " 6   Stay_In_Current_City_Years  550068 non-null  int64 \n",
      " 7   Marital_Status              550068 non-null  int64 \n",
      " 8   Product_Category_1          550068 non-null  int64 \n",
      " 9   Product_Category_2          550068 non-null  int64 \n",
      " 10  Product_Category_3          550068 non-null  int64 \n",
      " 11  Purchase                    550068 non-null  int64 \n",
      "dtypes: int64(10), object(2)\n",
      "memory usage: 50.4+ MB\n"
     ]
    }
   ],
   "source": [
    "train.info()"
   ]
  },
  {
   "cell_type": "markdown",
   "id": "c9afa2fb",
   "metadata": {},
   "source": [
    "### Changing train dataframe to \"Final_Sales_Data\""
   ]
  },
  {
   "cell_type": "code",
   "execution_count": 46,
   "id": "1a0d5bd3",
   "metadata": {},
   "outputs": [],
   "source": [
    "Final_Sales_Data = train"
   ]
  },
  {
   "cell_type": "code",
   "execution_count": 47,
   "id": "1ff0221d",
   "metadata": {
    "scrolled": false
   },
   "outputs": [
    {
     "name": "stdout",
     "output_type": "stream",
     "text": [
      "<class 'pandas.core.frame.DataFrame'>\n",
      "RangeIndex: 550068 entries, 0 to 550067\n",
      "Data columns (total 12 columns):\n",
      " #   Column                      Non-Null Count   Dtype \n",
      "---  ------                      --------------   ----- \n",
      " 0   User_ID                     550068 non-null  int64 \n",
      " 1   Product_ID                  550068 non-null  object\n",
      " 2   Gender                      550068 non-null  object\n",
      " 3   Age                         550068 non-null  int64 \n",
      " 4   Occupation                  550068 non-null  int64 \n",
      " 5   City_Category               550068 non-null  int64 \n",
      " 6   Stay_In_Current_City_Years  550068 non-null  int64 \n",
      " 7   Marital_Status              550068 non-null  int64 \n",
      " 8   Product_Category_1          550068 non-null  int64 \n",
      " 9   Product_Category_2          550068 non-null  int64 \n",
      " 10  Product_Category_3          550068 non-null  int64 \n",
      " 11  Purchase                    550068 non-null  int64 \n",
      "dtypes: int64(10), object(2)\n",
      "memory usage: 50.4+ MB\n"
     ]
    }
   ],
   "source": [
    "Final_Sales_Data.info()"
   ]
  },
  {
   "cell_type": "code",
   "execution_count": 48,
   "id": "028bcc38",
   "metadata": {},
   "outputs": [
    {
     "data": {
      "text/plain": [
       "array([ 8370, 15200,  1422, ...,   135,   123,   613])"
      ]
     },
     "execution_count": 48,
     "metadata": {},
     "output_type": "execute_result"
    }
   ],
   "source": [
    "Final_Sales_Data[\"Purchase\"].unique()"
   ]
  },
  {
   "cell_type": "code",
   "execution_count": 49,
   "id": "eef22775",
   "metadata": {
    "scrolled": false
   },
   "outputs": [
    {
     "data": {
      "text/plain": [
       "User_ID                       0\n",
       "Product_ID                    0\n",
       "Gender                        0\n",
       "Age                           0\n",
       "Occupation                    0\n",
       "City_Category                 0\n",
       "Stay_In_Current_City_Years    0\n",
       "Marital_Status                0\n",
       "Product_Category_1            0\n",
       "Product_Category_2            0\n",
       "Product_Category_3            0\n",
       "Purchase                      0\n",
       "dtype: int64"
      ]
     },
     "execution_count": 49,
     "metadata": {},
     "output_type": "execute_result"
    }
   ],
   "source": [
    "Final_Sales_Data.isnull().sum()"
   ]
  },
  {
   "cell_type": "markdown",
   "id": "29d8081e",
   "metadata": {},
   "source": [
    "### Calculating average cost of a product and average buying power of users"
   ]
  },
  {
   "cell_type": "code",
   "execution_count": 50,
   "id": "3137d8da",
   "metadata": {},
   "outputs": [
    {
     "name": "stdout",
     "output_type": "stream",
     "text": [
      "Average Cost of Products is  7874.916376628897\n",
      "Average Buying Power of users is  9568.839913558928\n"
     ]
    }
   ],
   "source": [
    "Final_Sales_Data['Average_Cost'] = Final_Sales_Data.groupby(['Product_ID'])['Purchase'].transform('mean')\n",
    "Final_Sales_Data['Buying_Power'] =  Final_Sales_Data.groupby(['User_ID'])['Purchase'].transform('mean')\n",
    "\n",
    "product_price = Final_Sales_Data[['Average_Cost','Product_ID']].drop_duplicates()\n",
    "average_cost = product_price['Average_Cost'].mean()\n",
    "print(\"Average Cost of Products is \", average_cost)\n",
    "\n",
    "user_buying_power =  Final_Sales_Data[['Buying_Power','User_ID']].drop_duplicates()\n",
    "buying_power = user_buying_power['Buying_Power'].mean()\n",
    "print(\"Average Buying Power of users is \", buying_power)"
   ]
  },
  {
   "cell_type": "code",
   "execution_count": 51,
   "id": "d9ba1108",
   "metadata": {
    "scrolled": true
   },
   "outputs": [
    {
     "data": {
      "text/html": [
       "<div>\n",
       "<style scoped>\n",
       "    .dataframe tbody tr th:only-of-type {\n",
       "        vertical-align: middle;\n",
       "    }\n",
       "\n",
       "    .dataframe tbody tr th {\n",
       "        vertical-align: top;\n",
       "    }\n",
       "\n",
       "    .dataframe thead th {\n",
       "        text-align: right;\n",
       "    }\n",
       "</style>\n",
       "<table border=\"1\" class=\"dataframe\">\n",
       "  <thead>\n",
       "    <tr style=\"text-align: right;\">\n",
       "      <th></th>\n",
       "      <th>User_ID</th>\n",
       "      <th>Age</th>\n",
       "      <th>Occupation</th>\n",
       "      <th>City_Category</th>\n",
       "      <th>Stay_In_Current_City_Years</th>\n",
       "      <th>Marital_Status</th>\n",
       "      <th>Product_Category_1</th>\n",
       "      <th>Product_Category_2</th>\n",
       "      <th>Product_Category_3</th>\n",
       "      <th>Purchase</th>\n",
       "      <th>Average_Cost</th>\n",
       "      <th>Buying_Power</th>\n",
       "    </tr>\n",
       "  </thead>\n",
       "  <tbody>\n",
       "    <tr>\n",
       "      <th>count</th>\n",
       "      <td>5.500680e+05</td>\n",
       "      <td>550068.000000</td>\n",
       "      <td>550068.000000</td>\n",
       "      <td>550068.000000</td>\n",
       "      <td>550068.000000</td>\n",
       "      <td>550068.000000</td>\n",
       "      <td>550068.000000</td>\n",
       "      <td>550068.000000</td>\n",
       "      <td>550068.000000</td>\n",
       "      <td>550068.000000</td>\n",
       "      <td>550068.000000</td>\n",
       "      <td>550068.000000</td>\n",
       "    </tr>\n",
       "    <tr>\n",
       "      <th>mean</th>\n",
       "      <td>1.003029e+06</td>\n",
       "      <td>3.496430</td>\n",
       "      <td>8.076707</td>\n",
       "      <td>2.042640</td>\n",
       "      <td>1.858418</td>\n",
       "      <td>0.409653</td>\n",
       "      <td>5.404270</td>\n",
       "      <td>9.576434</td>\n",
       "      <td>12.202660</td>\n",
       "      <td>9263.968713</td>\n",
       "      <td>9263.968713</td>\n",
       "      <td>9263.968713</td>\n",
       "    </tr>\n",
       "    <tr>\n",
       "      <th>std</th>\n",
       "      <td>1.727592e+03</td>\n",
       "      <td>1.353632</td>\n",
       "      <td>6.522660</td>\n",
       "      <td>0.760211</td>\n",
       "      <td>1.289443</td>\n",
       "      <td>0.491770</td>\n",
       "      <td>3.936211</td>\n",
       "      <td>4.226025</td>\n",
       "      <td>2.292502</td>\n",
       "      <td>5023.065394</td>\n",
       "      <td>4267.891837</td>\n",
       "      <td>1619.510567</td>\n",
       "    </tr>\n",
       "    <tr>\n",
       "      <th>min</th>\n",
       "      <td>1.000001e+06</td>\n",
       "      <td>1.000000</td>\n",
       "      <td>0.000000</td>\n",
       "      <td>1.000000</td>\n",
       "      <td>0.000000</td>\n",
       "      <td>0.000000</td>\n",
       "      <td>1.000000</td>\n",
       "      <td>2.000000</td>\n",
       "      <td>3.000000</td>\n",
       "      <td>12.000000</td>\n",
       "      <td>36.675159</td>\n",
       "      <td>2318.733333</td>\n",
       "    </tr>\n",
       "    <tr>\n",
       "      <th>25%</th>\n",
       "      <td>1.001516e+06</td>\n",
       "      <td>3.000000</td>\n",
       "      <td>2.000000</td>\n",
       "      <td>1.000000</td>\n",
       "      <td>1.000000</td>\n",
       "      <td>0.000000</td>\n",
       "      <td>1.000000</td>\n",
       "      <td>8.000000</td>\n",
       "      <td>12.000000</td>\n",
       "      <td>5823.000000</td>\n",
       "      <td>6372.163743</td>\n",
       "      <td>8141.850877</td>\n",
       "    </tr>\n",
       "    <tr>\n",
       "      <th>50%</th>\n",
       "      <td>1.003077e+06</td>\n",
       "      <td>3.000000</td>\n",
       "      <td>7.000000</td>\n",
       "      <td>2.000000</td>\n",
       "      <td>2.000000</td>\n",
       "      <td>0.000000</td>\n",
       "      <td>5.000000</td>\n",
       "      <td>9.000000</td>\n",
       "      <td>12.000000</td>\n",
       "      <td>8047.000000</td>\n",
       "      <td>7785.074766</td>\n",
       "      <td>9144.435484</td>\n",
       "    </tr>\n",
       "    <tr>\n",
       "      <th>75%</th>\n",
       "      <td>1.004478e+06</td>\n",
       "      <td>4.000000</td>\n",
       "      <td>14.000000</td>\n",
       "      <td>3.000000</td>\n",
       "      <td>3.000000</td>\n",
       "      <td>1.000000</td>\n",
       "      <td>8.000000</td>\n",
       "      <td>14.000000</td>\n",
       "      <td>12.000000</td>\n",
       "      <td>12054.000000</td>\n",
       "      <td>12972.273148</td>\n",
       "      <td>10186.360714</td>\n",
       "    </tr>\n",
       "    <tr>\n",
       "      <th>max</th>\n",
       "      <td>1.006040e+06</td>\n",
       "      <td>7.000000</td>\n",
       "      <td>20.000000</td>\n",
       "      <td>3.000000</td>\n",
       "      <td>4.000000</td>\n",
       "      <td>1.000000</td>\n",
       "      <td>20.000000</td>\n",
       "      <td>18.000000</td>\n",
       "      <td>18.000000</td>\n",
       "      <td>23961.000000</td>\n",
       "      <td>21256.505495</td>\n",
       "      <td>18577.893617</td>\n",
       "    </tr>\n",
       "  </tbody>\n",
       "</table>\n",
       "</div>"
      ],
      "text/plain": [
       "            User_ID            Age     Occupation  City_Category  \\\n",
       "count  5.500680e+05  550068.000000  550068.000000  550068.000000   \n",
       "mean   1.003029e+06       3.496430       8.076707       2.042640   \n",
       "std    1.727592e+03       1.353632       6.522660       0.760211   \n",
       "min    1.000001e+06       1.000000       0.000000       1.000000   \n",
       "25%    1.001516e+06       3.000000       2.000000       1.000000   \n",
       "50%    1.003077e+06       3.000000       7.000000       2.000000   \n",
       "75%    1.004478e+06       4.000000      14.000000       3.000000   \n",
       "max    1.006040e+06       7.000000      20.000000       3.000000   \n",
       "\n",
       "       Stay_In_Current_City_Years  Marital_Status  Product_Category_1  \\\n",
       "count               550068.000000   550068.000000       550068.000000   \n",
       "mean                     1.858418        0.409653            5.404270   \n",
       "std                      1.289443        0.491770            3.936211   \n",
       "min                      0.000000        0.000000            1.000000   \n",
       "25%                      1.000000        0.000000            1.000000   \n",
       "50%                      2.000000        0.000000            5.000000   \n",
       "75%                      3.000000        1.000000            8.000000   \n",
       "max                      4.000000        1.000000           20.000000   \n",
       "\n",
       "       Product_Category_2  Product_Category_3       Purchase   Average_Cost  \\\n",
       "count       550068.000000       550068.000000  550068.000000  550068.000000   \n",
       "mean             9.576434           12.202660    9263.968713    9263.968713   \n",
       "std              4.226025            2.292502    5023.065394    4267.891837   \n",
       "min              2.000000            3.000000      12.000000      36.675159   \n",
       "25%              8.000000           12.000000    5823.000000    6372.163743   \n",
       "50%              9.000000           12.000000    8047.000000    7785.074766   \n",
       "75%             14.000000           12.000000   12054.000000   12972.273148   \n",
       "max             18.000000           18.000000   23961.000000   21256.505495   \n",
       "\n",
       "        Buying_Power  \n",
       "count  550068.000000  \n",
       "mean     9263.968713  \n",
       "std      1619.510567  \n",
       "min      2318.733333  \n",
       "25%      8141.850877  \n",
       "50%      9144.435484  \n",
       "75%     10186.360714  \n",
       "max     18577.893617  "
      ]
     },
     "execution_count": 51,
     "metadata": {},
     "output_type": "execute_result"
    }
   ],
   "source": [
    "Final_Sales_Data.describe()"
   ]
  },
  {
   "cell_type": "markdown",
   "id": "42f7d688",
   "metadata": {},
   "source": [
    "### Correlation matrix"
   ]
  },
  {
   "cell_type": "code",
   "execution_count": 52,
   "id": "c6207e7d",
   "metadata": {
    "scrolled": true
   },
   "outputs": [
    {
     "data": {
      "text/html": [
       "<div>\n",
       "<style scoped>\n",
       "    .dataframe tbody tr th:only-of-type {\n",
       "        vertical-align: middle;\n",
       "    }\n",
       "\n",
       "    .dataframe tbody tr th {\n",
       "        vertical-align: top;\n",
       "    }\n",
       "\n",
       "    .dataframe thead th {\n",
       "        text-align: right;\n",
       "    }\n",
       "</style>\n",
       "<table border=\"1\" class=\"dataframe\">\n",
       "  <thead>\n",
       "    <tr style=\"text-align: right;\">\n",
       "      <th></th>\n",
       "      <th>User_ID</th>\n",
       "      <th>Age</th>\n",
       "      <th>Occupation</th>\n",
       "      <th>City_Category</th>\n",
       "      <th>Stay_In_Current_City_Years</th>\n",
       "      <th>Marital_Status</th>\n",
       "      <th>Product_Category_1</th>\n",
       "      <th>Product_Category_2</th>\n",
       "      <th>Product_Category_3</th>\n",
       "      <th>Purchase</th>\n",
       "      <th>Average_Cost</th>\n",
       "      <th>Buying_Power</th>\n",
       "    </tr>\n",
       "  </thead>\n",
       "  <tbody>\n",
       "    <tr>\n",
       "      <th>User_ID</th>\n",
       "      <td>1.000000</td>\n",
       "      <td>0.032698</td>\n",
       "      <td>-0.023971</td>\n",
       "      <td>0.022859</td>\n",
       "      <td>-0.030737</td>\n",
       "      <td>0.020443</td>\n",
       "      <td>0.003825</td>\n",
       "      <td>0.001644</td>\n",
       "      <td>0.002291</td>\n",
       "      <td>0.004716</td>\n",
       "      <td>0.005361</td>\n",
       "      <td>0.014626</td>\n",
       "    </tr>\n",
       "    <tr>\n",
       "      <th>Age</th>\n",
       "      <td>0.032698</td>\n",
       "      <td>1.000000</td>\n",
       "      <td>0.091463</td>\n",
       "      <td>0.123079</td>\n",
       "      <td>-0.004712</td>\n",
       "      <td>0.311738</td>\n",
       "      <td>0.061197</td>\n",
       "      <td>0.043503</td>\n",
       "      <td>0.028172</td>\n",
       "      <td>0.015839</td>\n",
       "      <td>0.012409</td>\n",
       "      <td>0.049125</td>\n",
       "    </tr>\n",
       "    <tr>\n",
       "      <th>Occupation</th>\n",
       "      <td>-0.023971</td>\n",
       "      <td>0.091463</td>\n",
       "      <td>1.000000</td>\n",
       "      <td>0.034479</td>\n",
       "      <td>0.030005</td>\n",
       "      <td>0.024280</td>\n",
       "      <td>-0.007618</td>\n",
       "      <td>0.000557</td>\n",
       "      <td>0.008584</td>\n",
       "      <td>0.020833</td>\n",
       "      <td>0.020582</td>\n",
       "      <td>0.064614</td>\n",
       "    </tr>\n",
       "    <tr>\n",
       "      <th>City_Category</th>\n",
       "      <td>0.022859</td>\n",
       "      <td>0.123079</td>\n",
       "      <td>0.034479</td>\n",
       "      <td>1.000000</td>\n",
       "      <td>0.019946</td>\n",
       "      <td>0.039790</td>\n",
       "      <td>-0.014364</td>\n",
       "      <td>-0.006888</td>\n",
       "      <td>0.003897</td>\n",
       "      <td>0.061914</td>\n",
       "      <td>0.040782</td>\n",
       "      <td>0.192033</td>\n",
       "    </tr>\n",
       "    <tr>\n",
       "      <th>Stay_In_Current_City_Years</th>\n",
       "      <td>-0.030737</td>\n",
       "      <td>-0.004712</td>\n",
       "      <td>0.030005</td>\n",
       "      <td>0.019946</td>\n",
       "      <td>1.000000</td>\n",
       "      <td>-0.012819</td>\n",
       "      <td>-0.004213</td>\n",
       "      <td>-0.001087</td>\n",
       "      <td>0.001362</td>\n",
       "      <td>0.005422</td>\n",
       "      <td>0.001766</td>\n",
       "      <td>0.016818</td>\n",
       "    </tr>\n",
       "    <tr>\n",
       "      <th>Marital_Status</th>\n",
       "      <td>0.020443</td>\n",
       "      <td>0.311738</td>\n",
       "      <td>0.024280</td>\n",
       "      <td>0.039790</td>\n",
       "      <td>-0.012819</td>\n",
       "      <td>1.000000</td>\n",
       "      <td>0.019888</td>\n",
       "      <td>0.011526</td>\n",
       "      <td>0.009374</td>\n",
       "      <td>-0.000463</td>\n",
       "      <td>0.003620</td>\n",
       "      <td>-0.001437</td>\n",
       "    </tr>\n",
       "    <tr>\n",
       "      <th>Product_Category_1</th>\n",
       "      <td>0.003825</td>\n",
       "      <td>0.061197</td>\n",
       "      <td>-0.007618</td>\n",
       "      <td>-0.014364</td>\n",
       "      <td>-0.004213</td>\n",
       "      <td>0.019888</td>\n",
       "      <td>1.000000</td>\n",
       "      <td>0.331691</td>\n",
       "      <td>0.022191</td>\n",
       "      <td>-0.343703</td>\n",
       "      <td>-0.404519</td>\n",
       "      <td>-0.112922</td>\n",
       "    </tr>\n",
       "    <tr>\n",
       "      <th>Product_Category_2</th>\n",
       "      <td>0.001644</td>\n",
       "      <td>0.043503</td>\n",
       "      <td>0.000557</td>\n",
       "      <td>-0.006888</td>\n",
       "      <td>-0.001087</td>\n",
       "      <td>0.011526</td>\n",
       "      <td>0.331691</td>\n",
       "      <td>1.000000</td>\n",
       "      <td>0.259891</td>\n",
       "      <td>-0.156676</td>\n",
       "      <td>-0.184399</td>\n",
       "      <td>-0.026123</td>\n",
       "    </tr>\n",
       "    <tr>\n",
       "      <th>Product_Category_3</th>\n",
       "      <td>0.002291</td>\n",
       "      <td>0.028172</td>\n",
       "      <td>0.008584</td>\n",
       "      <td>0.003897</td>\n",
       "      <td>0.001362</td>\n",
       "      <td>0.009374</td>\n",
       "      <td>0.022191</td>\n",
       "      <td>0.259891</td>\n",
       "      <td>1.000000</td>\n",
       "      <td>0.029984</td>\n",
       "      <td>0.035289</td>\n",
       "      <td>0.037159</td>\n",
       "    </tr>\n",
       "    <tr>\n",
       "      <th>Purchase</th>\n",
       "      <td>0.004716</td>\n",
       "      <td>0.015839</td>\n",
       "      <td>0.020833</td>\n",
       "      <td>0.061914</td>\n",
       "      <td>0.005422</td>\n",
       "      <td>-0.000463</td>\n",
       "      <td>-0.343703</td>\n",
       "      <td>-0.156676</td>\n",
       "      <td>0.029984</td>\n",
       "      <td>1.000000</td>\n",
       "      <td>0.849659</td>\n",
       "      <td>0.322415</td>\n",
       "    </tr>\n",
       "    <tr>\n",
       "      <th>Average_Cost</th>\n",
       "      <td>0.005361</td>\n",
       "      <td>0.012409</td>\n",
       "      <td>0.020582</td>\n",
       "      <td>0.040782</td>\n",
       "      <td>0.001766</td>\n",
       "      <td>0.003620</td>\n",
       "      <td>-0.404519</td>\n",
       "      <td>-0.184399</td>\n",
       "      <td>0.035289</td>\n",
       "      <td>0.849659</td>\n",
       "      <td>1.000000</td>\n",
       "      <td>0.223574</td>\n",
       "    </tr>\n",
       "    <tr>\n",
       "      <th>Buying_Power</th>\n",
       "      <td>0.014626</td>\n",
       "      <td>0.049125</td>\n",
       "      <td>0.064614</td>\n",
       "      <td>0.192033</td>\n",
       "      <td>0.016818</td>\n",
       "      <td>-0.001437</td>\n",
       "      <td>-0.112922</td>\n",
       "      <td>-0.026123</td>\n",
       "      <td>0.037159</td>\n",
       "      <td>0.322415</td>\n",
       "      <td>0.223574</td>\n",
       "      <td>1.000000</td>\n",
       "    </tr>\n",
       "  </tbody>\n",
       "</table>\n",
       "</div>"
      ],
      "text/plain": [
       "                             User_ID       Age  Occupation  City_Category  \\\n",
       "User_ID                     1.000000  0.032698   -0.023971       0.022859   \n",
       "Age                         0.032698  1.000000    0.091463       0.123079   \n",
       "Occupation                 -0.023971  0.091463    1.000000       0.034479   \n",
       "City_Category               0.022859  0.123079    0.034479       1.000000   \n",
       "Stay_In_Current_City_Years -0.030737 -0.004712    0.030005       0.019946   \n",
       "Marital_Status              0.020443  0.311738    0.024280       0.039790   \n",
       "Product_Category_1          0.003825  0.061197   -0.007618      -0.014364   \n",
       "Product_Category_2          0.001644  0.043503    0.000557      -0.006888   \n",
       "Product_Category_3          0.002291  0.028172    0.008584       0.003897   \n",
       "Purchase                    0.004716  0.015839    0.020833       0.061914   \n",
       "Average_Cost                0.005361  0.012409    0.020582       0.040782   \n",
       "Buying_Power                0.014626  0.049125    0.064614       0.192033   \n",
       "\n",
       "                            Stay_In_Current_City_Years  Marital_Status  \\\n",
       "User_ID                                      -0.030737        0.020443   \n",
       "Age                                          -0.004712        0.311738   \n",
       "Occupation                                    0.030005        0.024280   \n",
       "City_Category                                 0.019946        0.039790   \n",
       "Stay_In_Current_City_Years                    1.000000       -0.012819   \n",
       "Marital_Status                               -0.012819        1.000000   \n",
       "Product_Category_1                           -0.004213        0.019888   \n",
       "Product_Category_2                           -0.001087        0.011526   \n",
       "Product_Category_3                            0.001362        0.009374   \n",
       "Purchase                                      0.005422       -0.000463   \n",
       "Average_Cost                                  0.001766        0.003620   \n",
       "Buying_Power                                  0.016818       -0.001437   \n",
       "\n",
       "                            Product_Category_1  Product_Category_2  \\\n",
       "User_ID                               0.003825            0.001644   \n",
       "Age                                   0.061197            0.043503   \n",
       "Occupation                           -0.007618            0.000557   \n",
       "City_Category                        -0.014364           -0.006888   \n",
       "Stay_In_Current_City_Years           -0.004213           -0.001087   \n",
       "Marital_Status                        0.019888            0.011526   \n",
       "Product_Category_1                    1.000000            0.331691   \n",
       "Product_Category_2                    0.331691            1.000000   \n",
       "Product_Category_3                    0.022191            0.259891   \n",
       "Purchase                             -0.343703           -0.156676   \n",
       "Average_Cost                         -0.404519           -0.184399   \n",
       "Buying_Power                         -0.112922           -0.026123   \n",
       "\n",
       "                            Product_Category_3  Purchase  Average_Cost  \\\n",
       "User_ID                               0.002291  0.004716      0.005361   \n",
       "Age                                   0.028172  0.015839      0.012409   \n",
       "Occupation                            0.008584  0.020833      0.020582   \n",
       "City_Category                         0.003897  0.061914      0.040782   \n",
       "Stay_In_Current_City_Years            0.001362  0.005422      0.001766   \n",
       "Marital_Status                        0.009374 -0.000463      0.003620   \n",
       "Product_Category_1                    0.022191 -0.343703     -0.404519   \n",
       "Product_Category_2                    0.259891 -0.156676     -0.184399   \n",
       "Product_Category_3                    1.000000  0.029984      0.035289   \n",
       "Purchase                              0.029984  1.000000      0.849659   \n",
       "Average_Cost                          0.035289  0.849659      1.000000   \n",
       "Buying_Power                          0.037159  0.322415      0.223574   \n",
       "\n",
       "                            Buying_Power  \n",
       "User_ID                         0.014626  \n",
       "Age                             0.049125  \n",
       "Occupation                      0.064614  \n",
       "City_Category                   0.192033  \n",
       "Stay_In_Current_City_Years      0.016818  \n",
       "Marital_Status                 -0.001437  \n",
       "Product_Category_1             -0.112922  \n",
       "Product_Category_2             -0.026123  \n",
       "Product_Category_3              0.037159  \n",
       "Purchase                        0.322415  \n",
       "Average_Cost                    0.223574  \n",
       "Buying_Power                    1.000000  "
      ]
     },
     "execution_count": 52,
     "metadata": {},
     "output_type": "execute_result"
    }
   ],
   "source": [
    "Final_Sales_Data.corr()"
   ]
  },
  {
   "cell_type": "markdown",
   "id": "b54188ed",
   "metadata": {},
   "source": [
    "## Visualization using python"
   ]
  },
  {
   "cell_type": "code",
   "execution_count": 53,
   "id": "801839c6",
   "metadata": {
    "scrolled": true
   },
   "outputs": [
    {
     "data": {
      "text/plain": [
       "array([[<AxesSubplot:title={'center':'User_ID'}>,\n",
       "        <AxesSubplot:title={'center':'Age'}>,\n",
       "        <AxesSubplot:title={'center':'Occupation'}>],\n",
       "       [<AxesSubplot:title={'center':'City_Category'}>,\n",
       "        <AxesSubplot:title={'center':'Stay_In_Current_City_Years'}>,\n",
       "        <AxesSubplot:title={'center':'Marital_Status'}>],\n",
       "       [<AxesSubplot:title={'center':'Product_Category_1'}>,\n",
       "        <AxesSubplot:title={'center':'Product_Category_2'}>,\n",
       "        <AxesSubplot:title={'center':'Product_Category_3'}>],\n",
       "       [<AxesSubplot:title={'center':'Purchase'}>,\n",
       "        <AxesSubplot:title={'center':'Average_Cost'}>,\n",
       "        <AxesSubplot:title={'center':'Buying_Power'}>]], dtype=object)"
      ]
     },
     "execution_count": 53,
     "metadata": {},
     "output_type": "execute_result"
    },
    {
     "data": {
      "image/png": "[encoded data removed]",
      "text/plain": [
       "<Figure size 1440x720 with 12 Axes>"
      ]
     },
     "metadata": {
      "needs_background": "light"
     },
     "output_type": "display_data"
    }
   ],
   "source": [
    "Final_Sales_Data.hist(figsize=(20,10))"
   ]
  },
  {
   "cell_type": "markdown",
   "id": "cce11329",
   "metadata": {},
   "source": [
    ">  Basic Data Visualization after cleaning the data and Gathering insights"
   ]
  },
  {
   "cell_type": "code",
   "execution_count": 54,
   "id": "64d10264",
   "metadata": {
    "scrolled": false
   },
   "outputs": [
    {
     "data": {
      "text/html": [
       "<div>\n",
       "<style scoped>\n",
       "    .dataframe tbody tr th:only-of-type {\n",
       "        vertical-align: middle;\n",
       "    }\n",
       "\n",
       "    .dataframe tbody tr th {\n",
       "        vertical-align: top;\n",
       "    }\n",
       "\n",
       "    .dataframe thead th {\n",
       "        text-align: right;\n",
       "    }\n",
       "</style>\n",
       "<table border=\"1\" class=\"dataframe\">\n",
       "  <thead>\n",
       "    <tr style=\"text-align: right;\">\n",
       "      <th></th>\n",
       "      <th>User_ID</th>\n",
       "      <th>Product_ID</th>\n",
       "      <th>Gender</th>\n",
       "      <th>Age</th>\n",
       "      <th>Occupation</th>\n",
       "      <th>City_Category</th>\n",
       "      <th>Stay_In_Current_City_Years</th>\n",
       "      <th>Marital_Status</th>\n",
       "      <th>Product_Category_1</th>\n",
       "      <th>Product_Category_2</th>\n",
       "      <th>Product_Category_3</th>\n",
       "      <th>Purchase</th>\n",
       "      <th>Average_Cost</th>\n",
       "      <th>Buying_Power</th>\n",
       "    </tr>\n",
       "  </thead>\n",
       "  <tbody>\n",
       "    <tr>\n",
       "      <th>0</th>\n",
       "      <td>1000001</td>\n",
       "      <td>P00069042</td>\n",
       "      <td>F</td>\n",
       "      <td>1</td>\n",
       "      <td>10</td>\n",
       "      <td>1</td>\n",
       "      <td>2</td>\n",
       "      <td>0</td>\n",
       "      <td>3</td>\n",
       "      <td>9</td>\n",
       "      <td>12</td>\n",
       "      <td>8370</td>\n",
       "      <td>11870.863436</td>\n",
       "      <td>9545.514286</td>\n",
       "    </tr>\n",
       "    <tr>\n",
       "      <th>1</th>\n",
       "      <td>1000001</td>\n",
       "      <td>P00248942</td>\n",
       "      <td>F</td>\n",
       "      <td>1</td>\n",
       "      <td>10</td>\n",
       "      <td>1</td>\n",
       "      <td>2</td>\n",
       "      <td>0</td>\n",
       "      <td>1</td>\n",
       "      <td>6</td>\n",
       "      <td>14</td>\n",
       "      <td>15200</td>\n",
       "      <td>16304.030981</td>\n",
       "      <td>9545.514286</td>\n",
       "    </tr>\n",
       "    <tr>\n",
       "      <th>2</th>\n",
       "      <td>1000001</td>\n",
       "      <td>P00087842</td>\n",
       "      <td>F</td>\n",
       "      <td>1</td>\n",
       "      <td>10</td>\n",
       "      <td>1</td>\n",
       "      <td>2</td>\n",
       "      <td>0</td>\n",
       "      <td>12</td>\n",
       "      <td>9</td>\n",
       "      <td>12</td>\n",
       "      <td>1422</td>\n",
       "      <td>1237.892157</td>\n",
       "      <td>9545.514286</td>\n",
       "    </tr>\n",
       "    <tr>\n",
       "      <th>3</th>\n",
       "      <td>1000001</td>\n",
       "      <td>P00085442</td>\n",
       "      <td>F</td>\n",
       "      <td>1</td>\n",
       "      <td>10</td>\n",
       "      <td>1</td>\n",
       "      <td>2</td>\n",
       "      <td>0</td>\n",
       "      <td>12</td>\n",
       "      <td>14</td>\n",
       "      <td>12</td>\n",
       "      <td>1057</td>\n",
       "      <td>1455.140762</td>\n",
       "      <td>9545.514286</td>\n",
       "    </tr>\n",
       "    <tr>\n",
       "      <th>4</th>\n",
       "      <td>1000002</td>\n",
       "      <td>P00285442</td>\n",
       "      <td>M</td>\n",
       "      <td>7</td>\n",
       "      <td>16</td>\n",
       "      <td>3</td>\n",
       "      <td>4</td>\n",
       "      <td>0</td>\n",
       "      <td>8</td>\n",
       "      <td>9</td>\n",
       "      <td>12</td>\n",
       "      <td>7969</td>\n",
       "      <td>7692.763547</td>\n",
       "      <td>10525.610390</td>\n",
       "    </tr>\n",
       "    <tr>\n",
       "      <th>...</th>\n",
       "      <td>...</td>\n",
       "      <td>...</td>\n",
       "      <td>...</td>\n",
       "      <td>...</td>\n",
       "      <td>...</td>\n",
       "      <td>...</td>\n",
       "      <td>...</td>\n",
       "      <td>...</td>\n",
       "      <td>...</td>\n",
       "      <td>...</td>\n",
       "      <td>...</td>\n",
       "      <td>...</td>\n",
       "      <td>...</td>\n",
       "      <td>...</td>\n",
       "    </tr>\n",
       "    <tr>\n",
       "      <th>550063</th>\n",
       "      <td>1006033</td>\n",
       "      <td>P00372445</td>\n",
       "      <td>M</td>\n",
       "      <td>6</td>\n",
       "      <td>13</td>\n",
       "      <td>2</td>\n",
       "      <td>1</td>\n",
       "      <td>1</td>\n",
       "      <td>20</td>\n",
       "      <td>9</td>\n",
       "      <td>12</td>\n",
       "      <td>368</td>\n",
       "      <td>374.930705</td>\n",
       "      <td>13940.083333</td>\n",
       "    </tr>\n",
       "    <tr>\n",
       "      <th>550064</th>\n",
       "      <td>1006035</td>\n",
       "      <td>P00375436</td>\n",
       "      <td>F</td>\n",
       "      <td>3</td>\n",
       "      <td>1</td>\n",
       "      <td>3</td>\n",
       "      <td>3</td>\n",
       "      <td>0</td>\n",
       "      <td>20</td>\n",
       "      <td>9</td>\n",
       "      <td>12</td>\n",
       "      <td>371</td>\n",
       "      <td>374.266585</td>\n",
       "      <td>6293.717105</td>\n",
       "    </tr>\n",
       "    <tr>\n",
       "      <th>550065</th>\n",
       "      <td>1006036</td>\n",
       "      <td>P00375436</td>\n",
       "      <td>F</td>\n",
       "      <td>3</td>\n",
       "      <td>15</td>\n",
       "      <td>2</td>\n",
       "      <td>4</td>\n",
       "      <td>1</td>\n",
       "      <td>20</td>\n",
       "      <td>9</td>\n",
       "      <td>12</td>\n",
       "      <td>137</td>\n",
       "      <td>374.266585</td>\n",
       "      <td>8007.894942</td>\n",
       "    </tr>\n",
       "    <tr>\n",
       "      <th>550066</th>\n",
       "      <td>1006038</td>\n",
       "      <td>P00375436</td>\n",
       "      <td>F</td>\n",
       "      <td>7</td>\n",
       "      <td>1</td>\n",
       "      <td>3</td>\n",
       "      <td>2</td>\n",
       "      <td>0</td>\n",
       "      <td>20</td>\n",
       "      <td>9</td>\n",
       "      <td>12</td>\n",
       "      <td>365</td>\n",
       "      <td>374.266585</td>\n",
       "      <td>7502.833333</td>\n",
       "    </tr>\n",
       "    <tr>\n",
       "      <th>550067</th>\n",
       "      <td>1006039</td>\n",
       "      <td>P00371644</td>\n",
       "      <td>F</td>\n",
       "      <td>5</td>\n",
       "      <td>0</td>\n",
       "      <td>2</td>\n",
       "      <td>4</td>\n",
       "      <td>1</td>\n",
       "      <td>20</td>\n",
       "      <td>9</td>\n",
       "      <td>12</td>\n",
       "      <td>490</td>\n",
       "      <td>362.911012</td>\n",
       "      <td>7977.283784</td>\n",
       "    </tr>\n",
       "  </tbody>\n",
       "</table>\n",
       "<p>550068 rows × 14 columns</p>\n",
       "</div>"
      ],
      "text/plain": [
       "        User_ID Product_ID Gender  Age  Occupation  City_Category  \\\n",
       "0       1000001  P00069042      F    1          10              1   \n",
       "1       1000001  P00248942      F    1          10              1   \n",
       "2       1000001  P00087842      F    1          10              1   \n",
       "3       1000001  P00085442      F    1          10              1   \n",
       "4       1000002  P00285442      M    7          16              3   \n",
       "...         ...        ...    ...  ...         ...            ...   \n",
       "550063  1006033  P00372445      M    6          13              2   \n",
       "550064  1006035  P00375436      F    3           1              3   \n",
       "550065  1006036  P00375436      F    3          15              2   \n",
       "550066  1006038  P00375436      F    7           1              3   \n",
       "550067  1006039  P00371644      F    5           0              2   \n",
       "\n",
       "        Stay_In_Current_City_Years  Marital_Status  Product_Category_1  \\\n",
       "0                                2               0                   3   \n",
       "1                                2               0                   1   \n",
       "2                                2               0                  12   \n",
       "3                                2               0                  12   \n",
       "4                                4               0                   8   \n",
       "...                            ...             ...                 ...   \n",
       "550063                           1               1                  20   \n",
       "550064                           3               0                  20   \n",
       "550065                           4               1                  20   \n",
       "550066                           2               0                  20   \n",
       "550067                           4               1                  20   \n",
       "\n",
       "        Product_Category_2  Product_Category_3  Purchase  Average_Cost  \\\n",
       "0                        9                  12      8370  11870.863436   \n",
       "1                        6                  14     15200  16304.030981   \n",
       "2                        9                  12      1422   1237.892157   \n",
       "3                       14                  12      1057   1455.140762   \n",
       "4                        9                  12      7969   7692.763547   \n",
       "...                    ...                 ...       ...           ...   \n",
       "550063                   9                  12       368    374.930705   \n",
       "550064                   9                  12       371    374.266585   \n",
       "550065                   9                  12       137    374.266585   \n",
       "550066                   9                  12       365    374.266585   \n",
       "550067                   9                  12       490    362.911012   \n",
       "\n",
       "        Buying_Power  \n",
       "0        9545.514286  \n",
       "1        9545.514286  \n",
       "2        9545.514286  \n",
       "3        9545.514286  \n",
       "4       10525.610390  \n",
       "...              ...  \n",
       "550063  13940.083333  \n",
       "550064   6293.717105  \n",
       "550065   8007.894942  \n",
       "550066   7502.833333  \n",
       "550067   7977.283784  \n",
       "\n",
       "[550068 rows x 14 columns]"
      ]
     },
     "execution_count": 54,
     "metadata": {},
     "output_type": "execute_result"
    }
   ],
   "source": [
    "Final_Sales_Data"
   ]
  },
  {
   "cell_type": "markdown",
   "id": "612d6b38",
   "metadata": {},
   "source": [
    "#### Refrence: https://stackoverflow.com/questions/63687789/how-do-i-create-a-pie-chart-using-categorical-data-in-matplotlib"
   ]
  },
  {
   "cell_type": "code",
   "execution_count": 55,
   "id": "3cfb463a",
   "metadata": {
    "scrolled": false
   },
   "outputs": [
    {
     "data": {
      "text/plain": [
       "Text(0.5, 1.0, 'Gender')"
      ]
     },
     "execution_count": 55,
     "metadata": {},
     "output_type": "execute_result"
    },
    {
     "data": {
      "image/png": "[encoded data removed]",
      "text/plain": [
       "<Figure size 432x288 with 1 Axes>"
      ]
     },
     "metadata": {},
     "output_type": "display_data"
    }
   ],
   "source": [
    "Final_Sales_Data.groupby('Gender').size().plot(kind='pie', autopct='%.2f')\n",
    "plt.title('Gender')"
   ]
  },
  {
   "cell_type": "markdown",
   "id": "0b5dfcf5",
   "metadata": {},
   "source": [
    "> Most of the users are Males"
   ]
  },
  {
   "cell_type": "code",
   "execution_count": 56,
   "id": "53d90549",
   "metadata": {},
   "outputs": [
    {
     "data": {
      "image/png": "[encoded data removed]",
      "text/plain": [
       "<Figure size 576x360 with 1 Axes>"
      ]
     },
     "metadata": {
      "needs_background": "light"
     },
     "output_type": "display_data"
    }
   ],
   "source": [
    "plt.figure(figsize=(8,5))\n",
    "sns.countplot(x='Age',data=Final_Sales_Data)\n",
    "plt.show()"
   ]
  },
  {
   "cell_type": "markdown",
   "id": "0eb4a412",
   "metadata": {},
   "source": [
    "> Most of the users are age group of 26-35 years"
   ]
  },
  {
   "cell_type": "code",
   "execution_count": 57,
   "id": "53f3f4ac",
   "metadata": {
    "scrolled": false
   },
   "outputs": [
    {
     "data": {
      "text/plain": [
       "Text(0.5, 1.0, 'Age')"
      ]
     },
     "execution_count": 57,
     "metadata": {},
     "output_type": "execute_result"
    },
    {
     "data": {
      "image/png": "[encoded data removed]",
      "text/plain": [
       "<Figure size 432x288 with 1 Axes>"
      ]
     },
     "metadata": {},
     "output_type": "display_data"
    }
   ],
   "source": [
    "Final_Sales_Data.groupby('Age').size().plot(kind='pie', autopct='%.2f')\n",
    "plt.title('Age')"
   ]
  },
  {
   "cell_type": "markdown",
   "id": "c28ad486",
   "metadata": {},
   "source": [
    "> 40% of users are 25-36 age group"
   ]
  },
  {
   "cell_type": "code",
   "execution_count": 58,
   "id": "9ef6f901",
   "metadata": {
    "scrolled": true
   },
   "outputs": [
    {
     "data": {
      "image/png": "[encoded data removed]",
      "text/plain": [
       "<Figure size 1008x432 with 2 Axes>"
      ]
     },
     "metadata": {
      "needs_background": "light"
     },
     "output_type": "display_data"
    }
   ],
   "source": [
    "Product_By_Age = Final_Sales_Data.groupby('Age').nunique()['Product_ID']\n",
    "\n",
    "fig,ax = plt.subplots(1,2,figsize=(14,6))\n",
    "ax = ax.ravel()\n",
    "\n",
    "sns.countplot(Final_Sales_Data['Age'].sort_values(),ax=ax[0], palette=\"flare\")\n",
    "ax[0].set_xlabel('Age Group')\n",
    "ax[0].set_title('Age Group Distribution')\n",
    "sns.barplot(x=Product_By_Age.index,y=Product_By_Age.values,ax=ax[1], palette=\"viridis\")\n",
    "ax[1].set_xlabel('Age Group')\n",
    "ax[1].set_title('Unique Products by Age')\n",
    "\n",
    "plt.show()"
   ]
  },
  {
   "cell_type": "markdown",
   "id": "d5555b1b",
   "metadata": {},
   "source": [
    "> Age group distribution and unique products by age"
   ]
  },
  {
   "cell_type": "code",
   "execution_count": 59,
   "id": "62225233",
   "metadata": {
    "scrolled": true
   },
   "outputs": [
    {
     "data": {
      "image/png": "[encoded data removed]",
      "text/plain": [
       "<Figure size 864x432 with 1 Axes>"
      ]
     },
     "metadata": {
      "needs_background": "light"
     },
     "output_type": "display_data"
    }
   ],
   "source": [
    "Spent_By_Age = Final_Sales_Data.groupby(by='Age').sum()['Purchase']\n",
    "plt.figure(figsize=(12,6))\n",
    "\n",
    "sns.barplot(x=Spent_By_Age.index,y=Spent_By_Age .values, palette=\"mako\")\n",
    "plt.title('Mean Purchases per Age Group')\n",
    "plt.show()"
   ]
  },
  {
   "cell_type": "markdown",
   "id": "45bd727c",
   "metadata": {},
   "source": [
    "> People spent by age on black friday sales"
   ]
  },
  {
   "cell_type": "code",
   "execution_count": 60,
   "id": "33637c31",
   "metadata": {
    "scrolled": false
   },
   "outputs": [
    {
     "data": {
      "text/plain": [
       "<AxesSubplot:xlabel='Age', ylabel='count'>"
      ]
     },
     "execution_count": 60,
     "metadata": {},
     "output_type": "execute_result"
    },
    {
     "data": {
      "image/png": "[encoded data removed]",
      "text/plain": [
       "<Figure size 432x288 with 1 Axes>"
      ]
     },
     "metadata": {
      "needs_background": "light"
     },
     "output_type": "display_data"
    }
   ],
   "source": [
    "sns.countplot(Final_Sales_Data['Age'],hue=Final_Sales_Data['Gender'])"
   ]
  },
  {
   "cell_type": "markdown",
   "id": "63cf0acb",
   "metadata": {},
   "source": [
    "> Visualizing age for each gender"
   ]
  },
  {
   "cell_type": "code",
   "execution_count": 61,
   "id": "cdae2bbd",
   "metadata": {
    "scrolled": false
   },
   "outputs": [
    {
     "data": {
      "image/png": "[encoded data removed]",
      "text/plain": [
       "<Figure size 576x360 with 1 Axes>"
      ]
     },
     "metadata": {
      "needs_background": "light"
     },
     "output_type": "display_data"
    }
   ],
   "source": [
    "plt.figure(figsize=(8,5))\n",
    "sns.countplot(x='Occupation',data=Final_Sales_Data)\n",
    "plt.show()"
   ]
  },
  {
   "cell_type": "code",
   "execution_count": 62,
   "id": "5c9f5add",
   "metadata": {
    "scrolled": false
   },
   "outputs": [
    {
     "data": {
      "text/plain": [
       "<AxesSubplot:xlabel='Occupation', ylabel='Gender'>"
      ]
     },
     "execution_count": 62,
     "metadata": {},
     "output_type": "execute_result"
    },
    {
     "data": {
      "image/png": "[encoded data removed]",
      "text/plain": [
       "<Figure size 432x288 with 1 Axes>"
      ]
     },
     "metadata": {
      "needs_background": "light"
     },
     "output_type": "display_data"
    }
   ],
   "source": [
    "sns.barplot(Final_Sales_Data['Occupation'],Final_Sales_Data['Gender'])"
   ]
  },
  {
   "cell_type": "markdown",
   "id": "52e7a04c",
   "metadata": {},
   "source": [
    "> Occupation for each gender"
   ]
  },
  {
   "cell_type": "code",
   "execution_count": 63,
   "id": "10a56c41",
   "metadata": {
    "scrolled": false
   },
   "outputs": [
    {
     "data": {
      "text/plain": [
       "<AxesSubplot:>"
      ]
     },
     "execution_count": 63,
     "metadata": {},
     "output_type": "execute_result"
    },
    {
     "data": {
      "image/png": "[encoded data removed]",
      "text/plain": [
       "<Figure size 432x288 with 1 Axes>"
      ]
     },
     "metadata": {
      "needs_background": "light"
     },
     "output_type": "display_data"
    }
   ],
   "source": [
    "Final_Sales_Data.Marital_Status.value_counts().plot(kind='bar')"
   ]
  },
  {
   "cell_type": "markdown",
   "id": "976cbaf9",
   "metadata": {},
   "source": [
    "### Count plot showing the sales of product category 1,2 &3"
   ]
  },
  {
   "cell_type": "code",
   "execution_count": 64,
   "id": "ebbc3a3a",
   "metadata": {
    "scrolled": false
   },
   "outputs": [
    {
     "data": {
      "image/png": "[encoded data removed]",
      "text/plain": [
       "<Figure size 576x360 with 1 Axes>"
      ]
     },
     "metadata": {
      "needs_background": "light"
     },
     "output_type": "display_data"
    }
   ],
   "source": [
    "plt.figure(figsize=(8,5))\n",
    "sns.countplot(x='Product_Category_1',data=Final_Sales_Data)\n",
    "plt.show()"
   ]
  },
  {
   "cell_type": "code",
   "execution_count": 65,
   "id": "d8d6502b",
   "metadata": {
    "scrolled": true
   },
   "outputs": [
    {
     "data": {
      "image/png": "[encoded data removed]",
      "text/plain": [
       "<Figure size 576x360 with 1 Axes>"
      ]
     },
     "metadata": {
      "needs_background": "light"
     },
     "output_type": "display_data"
    }
   ],
   "source": [
    "plt.figure(figsize=(8,5))\n",
    "sns.countplot(x='Product_Category_2',data=Final_Sales_Data)\n",
    "plt.show()"
   ]
  },
  {
   "cell_type": "code",
   "execution_count": 66,
   "id": "192714c8",
   "metadata": {
    "scrolled": true
   },
   "outputs": [
    {
     "data": {
      "image/png": "[encoded data removed]",
      "text/plain": [
       "<Figure size 576x360 with 1 Axes>"
      ]
     },
     "metadata": {
      "needs_background": "light"
     },
     "output_type": "display_data"
    }
   ],
   "source": [
    "plt.figure(figsize=(8,5))\n",
    "sns.countplot(x='Product_Category_3',data=Final_Sales_Data)\n",
    "plt.show()"
   ]
  },
  {
   "cell_type": "markdown",
   "id": "5288d6cc",
   "metadata": {},
   "source": [
    "### Merging gender and marital status columns"
   ]
  },
  {
   "cell_type": "code",
   "execution_count": 67,
   "id": "5cfce7fa",
   "metadata": {
    "scrolled": true
   },
   "outputs": [
    {
     "name": "stdout",
     "output_type": "stream",
     "text": [
      "['F_0' 'M_0' 'M_1' 'F_1']\n"
     ]
    }
   ],
   "source": [
    "Final_Sales_Data['Combined_G_M'] = Final_Sales_Data.apply(lambda x:'%s_%s' % (x['Gender'],x['Marital_Status']),axis=1)\n",
    "print(Final_Sales_Data['Combined_G_M'].unique())"
   ]
  },
  {
   "cell_type": "code",
   "execution_count": 68,
   "id": "a9565919",
   "metadata": {
    "scrolled": true
   },
   "outputs": [
    {
     "data": {
      "text/plain": [
       "Index(['User_ID', 'Product_ID', 'Gender', 'Age', 'Occupation', 'City_Category',\n",
       "       'Stay_In_Current_City_Years', 'Marital_Status', 'Product_Category_1',\n",
       "       'Product_Category_2', 'Product_Category_3', 'Purchase', 'Average_Cost',\n",
       "       'Buying_Power', 'Combined_G_M'],\n",
       "      dtype='object')"
      ]
     },
     "execution_count": 68,
     "metadata": {},
     "output_type": "execute_result"
    }
   ],
   "source": [
    "Final_Sales_Data.columns"
   ]
  },
  {
   "cell_type": "code",
   "execution_count": 69,
   "id": "58b0f67e",
   "metadata": {
    "scrolled": false
   },
   "outputs": [
    {
     "data": {
      "text/plain": [
       "<AxesSubplot:xlabel='Age', ylabel='count'>"
      ]
     },
     "execution_count": 69,
     "metadata": {},
     "output_type": "execute_result"
    },
    {
     "data": {
      "image/png": "[encoded data removed]",
      "text/plain": [
       "<Figure size 432x288 with 1 Axes>"
      ]
     },
     "metadata": {
      "needs_background": "light"
     },
     "output_type": "display_data"
    }
   ],
   "source": [
    "sns.countplot(Final_Sales_Data['Age'],hue=Final_Sales_Data['Combined_G_M'])"
   ]
  },
  {
   "cell_type": "markdown",
   "id": "9e1ba728",
   "metadata": {},
   "source": [
    "> Showing sales depending upon the GENDER-MARITAL_STATUS AND AGE"
   ]
  },
  {
   "cell_type": "code",
   "execution_count": 70,
   "id": "99b82db1",
   "metadata": {
    "scrolled": true
   },
   "outputs": [
    {
     "data": {
      "text/plain": [
       "<AxesSubplot:xlabel='Product_Category_1', ylabel='count'>"
      ]
     },
     "execution_count": 70,
     "metadata": {},
     "output_type": "execute_result"
    },
    {
     "data": {
      "image/png": "[encoded data removed]",
      "text/plain": [
       "<Figure size 432x288 with 1 Axes>"
      ]
     },
     "metadata": {
      "needs_background": "light"
     },
     "output_type": "display_data"
    }
   ],
   "source": [
    "sns.countplot(Final_Sales_Data['Product_Category_1'],hue=Final_Sales_Data['Combined_G_M'])"
   ]
  },
  {
   "cell_type": "markdown",
   "id": "79806c9e",
   "metadata": {},
   "source": [
    "> Product category 1 sales depending upon the Gender and marital_status"
   ]
  },
  {
   "cell_type": "code",
   "execution_count": 71,
   "id": "26893e24",
   "metadata": {
    "scrolled": true
   },
   "outputs": [
    {
     "data": {
      "text/plain": [
       "<AxesSubplot:xlabel='Product_Category_2', ylabel='count'>"
      ]
     },
     "execution_count": 71,
     "metadata": {},
     "output_type": "execute_result"
    },
    {
     "data": {
      "image/png": "[encoded data removed]",
      "text/plain": [
       "<Figure size 432x288 with 1 Axes>"
      ]
     },
     "metadata": {
      "needs_background": "light"
     },
     "output_type": "display_data"
    }
   ],
   "source": [
    "sns.countplot(Final_Sales_Data['Product_Category_2'],hue=Final_Sales_Data['Combined_G_M'])"
   ]
  },
  {
   "cell_type": "markdown",
   "id": "906932e6",
   "metadata": {},
   "source": [
    "> Product category 2 sales depending upon the Gender and marital_status"
   ]
  },
  {
   "cell_type": "code",
   "execution_count": 72,
   "id": "0f029d07",
   "metadata": {
    "scrolled": true
   },
   "outputs": [
    {
     "data": {
      "text/plain": [
       "<AxesSubplot:xlabel='Product_Category_3', ylabel='count'>"
      ]
     },
     "execution_count": 72,
     "metadata": {},
     "output_type": "execute_result"
    },
    {
     "data": {
      "image/png": "[encoded data removed]",
      "text/plain": [
       "<Figure size 432x288 with 1 Axes>"
      ]
     },
     "metadata": {
      "needs_background": "light"
     },
     "output_type": "display_data"
    }
   ],
   "source": [
    "sns.countplot(Final_Sales_Data['Product_Category_3'],hue=Final_Sales_Data['Combined_G_M'])"
   ]
  },
  {
   "cell_type": "markdown",
   "id": "ec7f2ee2",
   "metadata": {},
   "source": [
    "> Product category 3 sales depending upon the Gender and marital_status"
   ]
  },
  {
   "cell_type": "code",
   "execution_count": 73,
   "id": "06dd35d8",
   "metadata": {
    "scrolled": false
   },
   "outputs": [
    {
     "data": {
      "image/png": "[encoded data removed]",
      "text/plain": [
       "<Figure size 864x432 with 1 Axes>"
      ]
     },
     "metadata": {
      "needs_background": "light"
     },
     "output_type": "display_data"
    }
   ],
   "source": [
    "Product_By_Category = Final_Sales_Data.groupby('Product_Category_1')['Product_ID'].nunique()\n",
    "plt.figure(figsize=(12,6))\n",
    "sns.barplot(x=Product_By_Category.index,y=Product_By_Category.values, palette=\"rocket\")\n",
    "plt.title('Number of Unique Items per Category')\n",
    "plt.show()"
   ]
  },
  {
   "cell_type": "markdown",
   "id": "acdaed71",
   "metadata": {},
   "source": [
    "> Number of unique items per category"
   ]
  },
  {
   "cell_type": "code",
   "execution_count": 74,
   "id": "aaa1c5f1",
   "metadata": {
    "scrolled": true
   },
   "outputs": [
    {
     "data": {
      "image/png": "[encoded data removed]",
      "text/plain": [
       "<Figure size 576x360 with 1 Axes>"
      ]
     },
     "metadata": {
      "needs_background": "light"
     },
     "output_type": "display_data"
    }
   ],
   "source": [
    "plt.figure(figsize=(8,5))\n",
    "sns.countplot(x='City_Category',data=Final_Sales_Data)\n",
    "plt.show()"
   ]
  },
  {
   "cell_type": "markdown",
   "id": "55d566fa",
   "metadata": {},
   "source": [
    "> Count of cities"
   ]
  },
  {
   "cell_type": "code",
   "execution_count": 75,
   "id": "2809616d",
   "metadata": {
    "scrolled": false
   },
   "outputs": [
    {
     "data": {
      "text/html": [
       "<div>\n",
       "<style scoped>\n",
       "    .dataframe tbody tr th:only-of-type {\n",
       "        vertical-align: middle;\n",
       "    }\n",
       "\n",
       "    .dataframe tbody tr th {\n",
       "        vertical-align: top;\n",
       "    }\n",
       "\n",
       "    .dataframe thead th {\n",
       "        text-align: right;\n",
       "    }\n",
       "</style>\n",
       "<table border=\"1\" class=\"dataframe\">\n",
       "  <thead>\n",
       "    <tr style=\"text-align: right;\">\n",
       "      <th></th>\n",
       "      <th>User_ID</th>\n",
       "      <th>Product_ID</th>\n",
       "      <th>Gender</th>\n",
       "      <th>Age</th>\n",
       "      <th>Occupation</th>\n",
       "      <th>City_Category</th>\n",
       "      <th>Stay_In_Current_City_Years</th>\n",
       "      <th>Marital_Status</th>\n",
       "      <th>Product_Category_1</th>\n",
       "      <th>Product_Category_2</th>\n",
       "      <th>Product_Category_3</th>\n",
       "      <th>Purchase</th>\n",
       "      <th>Average_Cost</th>\n",
       "      <th>Buying_Power</th>\n",
       "      <th>Combined_G_M</th>\n",
       "    </tr>\n",
       "  </thead>\n",
       "  <tbody>\n",
       "    <tr>\n",
       "      <th>0</th>\n",
       "      <td>1000001</td>\n",
       "      <td>P00069042</td>\n",
       "      <td>F</td>\n",
       "      <td>1</td>\n",
       "      <td>10</td>\n",
       "      <td>1</td>\n",
       "      <td>2</td>\n",
       "      <td>0</td>\n",
       "      <td>3</td>\n",
       "      <td>9</td>\n",
       "      <td>12</td>\n",
       "      <td>8370</td>\n",
       "      <td>11870.863436</td>\n",
       "      <td>9545.514286</td>\n",
       "      <td>F_0</td>\n",
       "    </tr>\n",
       "    <tr>\n",
       "      <th>1</th>\n",
       "      <td>1000001</td>\n",
       "      <td>P00248942</td>\n",
       "      <td>F</td>\n",
       "      <td>1</td>\n",
       "      <td>10</td>\n",
       "      <td>1</td>\n",
       "      <td>2</td>\n",
       "      <td>0</td>\n",
       "      <td>1</td>\n",
       "      <td>6</td>\n",
       "      <td>14</td>\n",
       "      <td>15200</td>\n",
       "      <td>16304.030981</td>\n",
       "      <td>9545.514286</td>\n",
       "      <td>F_0</td>\n",
       "    </tr>\n",
       "    <tr>\n",
       "      <th>2</th>\n",
       "      <td>1000001</td>\n",
       "      <td>P00087842</td>\n",
       "      <td>F</td>\n",
       "      <td>1</td>\n",
       "      <td>10</td>\n",
       "      <td>1</td>\n",
       "      <td>2</td>\n",
       "      <td>0</td>\n",
       "      <td>12</td>\n",
       "      <td>9</td>\n",
       "      <td>12</td>\n",
       "      <td>1422</td>\n",
       "      <td>1237.892157</td>\n",
       "      <td>9545.514286</td>\n",
       "      <td>F_0</td>\n",
       "    </tr>\n",
       "    <tr>\n",
       "      <th>3</th>\n",
       "      <td>1000001</td>\n",
       "      <td>P00085442</td>\n",
       "      <td>F</td>\n",
       "      <td>1</td>\n",
       "      <td>10</td>\n",
       "      <td>1</td>\n",
       "      <td>2</td>\n",
       "      <td>0</td>\n",
       "      <td>12</td>\n",
       "      <td>14</td>\n",
       "      <td>12</td>\n",
       "      <td>1057</td>\n",
       "      <td>1455.140762</td>\n",
       "      <td>9545.514286</td>\n",
       "      <td>F_0</td>\n",
       "    </tr>\n",
       "    <tr>\n",
       "      <th>4</th>\n",
       "      <td>1000002</td>\n",
       "      <td>P00285442</td>\n",
       "      <td>M</td>\n",
       "      <td>7</td>\n",
       "      <td>16</td>\n",
       "      <td>3</td>\n",
       "      <td>4</td>\n",
       "      <td>0</td>\n",
       "      <td>8</td>\n",
       "      <td>9</td>\n",
       "      <td>12</td>\n",
       "      <td>7969</td>\n",
       "      <td>7692.763547</td>\n",
       "      <td>10525.610390</td>\n",
       "      <td>M_0</td>\n",
       "    </tr>\n",
       "  </tbody>\n",
       "</table>\n",
       "</div>"
      ],
      "text/plain": [
       "   User_ID Product_ID Gender  Age  Occupation  City_Category  \\\n",
       "0  1000001  P00069042      F    1          10              1   \n",
       "1  1000001  P00248942      F    1          10              1   \n",
       "2  1000001  P00087842      F    1          10              1   \n",
       "3  1000001  P00085442      F    1          10              1   \n",
       "4  1000002  P00285442      M    7          16              3   \n",
       "\n",
       "   Stay_In_Current_City_Years  Marital_Status  Product_Category_1  \\\n",
       "0                           2               0                   3   \n",
       "1                           2               0                   1   \n",
       "2                           2               0                  12   \n",
       "3                           2               0                  12   \n",
       "4                           4               0                   8   \n",
       "\n",
       "   Product_Category_2  Product_Category_3  Purchase  Average_Cost  \\\n",
       "0                   9                  12      8370  11870.863436   \n",
       "1                   6                  14     15200  16304.030981   \n",
       "2                   9                  12      1422   1237.892157   \n",
       "3                  14                  12      1057   1455.140762   \n",
       "4                   9                  12      7969   7692.763547   \n",
       "\n",
       "   Buying_Power Combined_G_M  \n",
       "0   9545.514286          F_0  \n",
       "1   9545.514286          F_0  \n",
       "2   9545.514286          F_0  \n",
       "3   9545.514286          F_0  \n",
       "4  10525.610390          M_0  "
      ]
     },
     "execution_count": 75,
     "metadata": {},
     "output_type": "execute_result"
    }
   ],
   "source": [
    "Final_Sales_Data.head()"
   ]
  },
  {
   "cell_type": "code",
   "execution_count": 76,
   "id": "50275e7c",
   "metadata": {
    "scrolled": true
   },
   "outputs": [
    {
     "data": {
      "text/plain": [
       "User_ID                         int64\n",
       "Product_ID                     object\n",
       "Gender                         object\n",
       "Age                             int64\n",
       "Occupation                      int64\n",
       "City_Category                   int64\n",
       "Stay_In_Current_City_Years      int64\n",
       "Marital_Status                  int64\n",
       "Product_Category_1              int64\n",
       "Product_Category_2              int64\n",
       "Product_Category_3              int64\n",
       "Purchase                        int64\n",
       "Average_Cost                  float64\n",
       "Buying_Power                  float64\n",
       "Combined_G_M                   object\n",
       "dtype: object"
      ]
     },
     "execution_count": 76,
     "metadata": {},
     "output_type": "execute_result"
    }
   ],
   "source": [
    "Final_Sales_Data.dtypes"
   ]
  },
  {
   "cell_type": "code",
   "execution_count": 77,
   "id": "fd0aaaa6",
   "metadata": {},
   "outputs": [
    {
     "data": {
      "text/html": [
       "<div>\n",
       "<style scoped>\n",
       "    .dataframe tbody tr th:only-of-type {\n",
       "        vertical-align: middle;\n",
       "    }\n",
       "\n",
       "    .dataframe tbody tr th {\n",
       "        vertical-align: top;\n",
       "    }\n",
       "\n",
       "    .dataframe thead th {\n",
       "        text-align: right;\n",
       "    }\n",
       "</style>\n",
       "<table border=\"1\" class=\"dataframe\">\n",
       "  <thead>\n",
       "    <tr style=\"text-align: right;\">\n",
       "      <th></th>\n",
       "      <th>User_ID</th>\n",
       "      <th>Product_ID</th>\n",
       "      <th>Gender</th>\n",
       "      <th>Age</th>\n",
       "      <th>Occupation</th>\n",
       "      <th>City_Category</th>\n",
       "      <th>Stay_In_Current_City_Years</th>\n",
       "      <th>Marital_Status</th>\n",
       "      <th>Product_Category_1</th>\n",
       "      <th>Product_Category_2</th>\n",
       "      <th>Product_Category_3</th>\n",
       "      <th>Purchase</th>\n",
       "      <th>Average_Cost</th>\n",
       "      <th>Buying_Power</th>\n",
       "      <th>Combined_G_M</th>\n",
       "    </tr>\n",
       "  </thead>\n",
       "  <tbody>\n",
       "    <tr>\n",
       "      <th>0</th>\n",
       "      <td>1000001</td>\n",
       "      <td>P00069042</td>\n",
       "      <td>F</td>\n",
       "      <td>1</td>\n",
       "      <td>10</td>\n",
       "      <td>1</td>\n",
       "      <td>2</td>\n",
       "      <td>0</td>\n",
       "      <td>3</td>\n",
       "      <td>9</td>\n",
       "      <td>12</td>\n",
       "      <td>8370</td>\n",
       "      <td>11870.863436</td>\n",
       "      <td>9545.514286</td>\n",
       "      <td>F_0</td>\n",
       "    </tr>\n",
       "    <tr>\n",
       "      <th>1</th>\n",
       "      <td>1000001</td>\n",
       "      <td>P00248942</td>\n",
       "      <td>F</td>\n",
       "      <td>1</td>\n",
       "      <td>10</td>\n",
       "      <td>1</td>\n",
       "      <td>2</td>\n",
       "      <td>0</td>\n",
       "      <td>1</td>\n",
       "      <td>6</td>\n",
       "      <td>14</td>\n",
       "      <td>15200</td>\n",
       "      <td>16304.030981</td>\n",
       "      <td>9545.514286</td>\n",
       "      <td>F_0</td>\n",
       "    </tr>\n",
       "    <tr>\n",
       "      <th>2</th>\n",
       "      <td>1000001</td>\n",
       "      <td>P00087842</td>\n",
       "      <td>F</td>\n",
       "      <td>1</td>\n",
       "      <td>10</td>\n",
       "      <td>1</td>\n",
       "      <td>2</td>\n",
       "      <td>0</td>\n",
       "      <td>12</td>\n",
       "      <td>9</td>\n",
       "      <td>12</td>\n",
       "      <td>1422</td>\n",
       "      <td>1237.892157</td>\n",
       "      <td>9545.514286</td>\n",
       "      <td>F_0</td>\n",
       "    </tr>\n",
       "    <tr>\n",
       "      <th>3</th>\n",
       "      <td>1000001</td>\n",
       "      <td>P00085442</td>\n",
       "      <td>F</td>\n",
       "      <td>1</td>\n",
       "      <td>10</td>\n",
       "      <td>1</td>\n",
       "      <td>2</td>\n",
       "      <td>0</td>\n",
       "      <td>12</td>\n",
       "      <td>14</td>\n",
       "      <td>12</td>\n",
       "      <td>1057</td>\n",
       "      <td>1455.140762</td>\n",
       "      <td>9545.514286</td>\n",
       "      <td>F_0</td>\n",
       "    </tr>\n",
       "    <tr>\n",
       "      <th>4</th>\n",
       "      <td>1000002</td>\n",
       "      <td>P00285442</td>\n",
       "      <td>M</td>\n",
       "      <td>7</td>\n",
       "      <td>16</td>\n",
       "      <td>3</td>\n",
       "      <td>4</td>\n",
       "      <td>0</td>\n",
       "      <td>8</td>\n",
       "      <td>9</td>\n",
       "      <td>12</td>\n",
       "      <td>7969</td>\n",
       "      <td>7692.763547</td>\n",
       "      <td>10525.610390</td>\n",
       "      <td>M_0</td>\n",
       "    </tr>\n",
       "  </tbody>\n",
       "</table>\n",
       "</div>"
      ],
      "text/plain": [
       "   User_ID Product_ID Gender  Age  Occupation  City_Category  \\\n",
       "0  1000001  P00069042      F    1          10              1   \n",
       "1  1000001  P00248942      F    1          10              1   \n",
       "2  1000001  P00087842      F    1          10              1   \n",
       "3  1000001  P00085442      F    1          10              1   \n",
       "4  1000002  P00285442      M    7          16              3   \n",
       "\n",
       "   Stay_In_Current_City_Years  Marital_Status  Product_Category_1  \\\n",
       "0                           2               0                   3   \n",
       "1                           2               0                   1   \n",
       "2                           2               0                  12   \n",
       "3                           2               0                  12   \n",
       "4                           4               0                   8   \n",
       "\n",
       "   Product_Category_2  Product_Category_3  Purchase  Average_Cost  \\\n",
       "0                   9                  12      8370  11870.863436   \n",
       "1                   6                  14     15200  16304.030981   \n",
       "2                   9                  12      1422   1237.892157   \n",
       "3                  14                  12      1057   1455.140762   \n",
       "4                   9                  12      7969   7692.763547   \n",
       "\n",
       "   Buying_Power Combined_G_M  \n",
       "0   9545.514286          F_0  \n",
       "1   9545.514286          F_0  \n",
       "2   9545.514286          F_0  \n",
       "3   9545.514286          F_0  \n",
       "4  10525.610390          M_0  "
      ]
     },
     "execution_count": 77,
     "metadata": {},
     "output_type": "execute_result"
    }
   ],
   "source": [
    "Final_Sales_Data.head()"
   ]
  },
  {
   "cell_type": "code",
   "execution_count": 78,
   "id": "608b0db8",
   "metadata": {
    "scrolled": true
   },
   "outputs": [
    {
     "data": {
      "text/plain": [
       "<AxesSubplot:>"
      ]
     },
     "execution_count": 78,
     "metadata": {},
     "output_type": "execute_result"
    },
    {
     "data": {
      "image/png": "[encoded data removed]",
      "text/plain": [
       "<Figure size 1080x576 with 2 Axes>"
      ]
     },
     "metadata": {},
     "output_type": "display_data"
    }
   ],
   "source": [
    "sns.set(rc = {'figure.figsize':(15,8)})\n",
    "sns.heatmap(Final_Sales_Data.corr())"
   ]
  },
  {
   "cell_type": "markdown",
   "id": "63095a47",
   "metadata": {},
   "source": [
    "> Correlation of the whole data"
   ]
  },
  {
   "cell_type": "markdown",
   "id": "75df31c2",
   "metadata": {},
   "source": [
    "### Coverting present csv file \"Black_Friday_Sales.csv\""
   ]
  },
  {
   "cell_type": "code",
   "execution_count": 79,
   "id": "4a9fce89",
   "metadata": {},
   "outputs": [],
   "source": [
    "Final_Sales_Data.to_csv(\"Black_Friday_Sales.csv\")"
   ]
  },
  {
   "cell_type": "code",
   "execution_count": 80,
   "id": "ff2fda6c",
   "metadata": {
    "scrolled": true
   },
   "outputs": [
    {
     "data": {
      "text/html": [
       "<div>\n",
       "<style scoped>\n",
       "    .dataframe tbody tr th:only-of-type {\n",
       "        vertical-align: middle;\n",
       "    }\n",
       "\n",
       "    .dataframe tbody tr th {\n",
       "        vertical-align: top;\n",
       "    }\n",
       "\n",
       "    .dataframe thead th {\n",
       "        text-align: right;\n",
       "    }\n",
       "</style>\n",
       "<table border=\"1\" class=\"dataframe\">\n",
       "  <thead>\n",
       "    <tr style=\"text-align: right;\">\n",
       "      <th></th>\n",
       "      <th>Unnamed: 0</th>\n",
       "      <th>User_ID</th>\n",
       "      <th>Product_ID</th>\n",
       "      <th>Gender</th>\n",
       "      <th>Age</th>\n",
       "      <th>Occupation</th>\n",
       "      <th>City_Category</th>\n",
       "      <th>Stay_In_Current_City_Years</th>\n",
       "      <th>Marital_Status</th>\n",
       "      <th>Product_Category_1</th>\n",
       "      <th>Product_Category_2</th>\n",
       "      <th>Product_Category_3</th>\n",
       "      <th>Purchase</th>\n",
       "      <th>Average_Cost</th>\n",
       "      <th>Buying_Power</th>\n",
       "      <th>Combined_G_M</th>\n",
       "    </tr>\n",
       "  </thead>\n",
       "  <tbody>\n",
       "    <tr>\n",
       "      <th>0</th>\n",
       "      <td>0</td>\n",
       "      <td>1000001</td>\n",
       "      <td>P00069042</td>\n",
       "      <td>F</td>\n",
       "      <td>1</td>\n",
       "      <td>10</td>\n",
       "      <td>1</td>\n",
       "      <td>2</td>\n",
       "      <td>0</td>\n",
       "      <td>3</td>\n",
       "      <td>9</td>\n",
       "      <td>12</td>\n",
       "      <td>8370</td>\n",
       "      <td>11870.863436</td>\n",
       "      <td>9545.514286</td>\n",
       "      <td>F_0</td>\n",
       "    </tr>\n",
       "    <tr>\n",
       "      <th>1</th>\n",
       "      <td>1</td>\n",
       "      <td>1000001</td>\n",
       "      <td>P00248942</td>\n",
       "      <td>F</td>\n",
       "      <td>1</td>\n",
       "      <td>10</td>\n",
       "      <td>1</td>\n",
       "      <td>2</td>\n",
       "      <td>0</td>\n",
       "      <td>1</td>\n",
       "      <td>6</td>\n",
       "      <td>14</td>\n",
       "      <td>15200</td>\n",
       "      <td>16304.030981</td>\n",
       "      <td>9545.514286</td>\n",
       "      <td>F_0</td>\n",
       "    </tr>\n",
       "    <tr>\n",
       "      <th>2</th>\n",
       "      <td>2</td>\n",
       "      <td>1000001</td>\n",
       "      <td>P00087842</td>\n",
       "      <td>F</td>\n",
       "      <td>1</td>\n",
       "      <td>10</td>\n",
       "      <td>1</td>\n",
       "      <td>2</td>\n",
       "      <td>0</td>\n",
       "      <td>12</td>\n",
       "      <td>9</td>\n",
       "      <td>12</td>\n",
       "      <td>1422</td>\n",
       "      <td>1237.892157</td>\n",
       "      <td>9545.514286</td>\n",
       "      <td>F_0</td>\n",
       "    </tr>\n",
       "    <tr>\n",
       "      <th>3</th>\n",
       "      <td>3</td>\n",
       "      <td>1000001</td>\n",
       "      <td>P00085442</td>\n",
       "      <td>F</td>\n",
       "      <td>1</td>\n",
       "      <td>10</td>\n",
       "      <td>1</td>\n",
       "      <td>2</td>\n",
       "      <td>0</td>\n",
       "      <td>12</td>\n",
       "      <td>14</td>\n",
       "      <td>12</td>\n",
       "      <td>1057</td>\n",
       "      <td>1455.140762</td>\n",
       "      <td>9545.514286</td>\n",
       "      <td>F_0</td>\n",
       "    </tr>\n",
       "    <tr>\n",
       "      <th>4</th>\n",
       "      <td>4</td>\n",
       "      <td>1000002</td>\n",
       "      <td>P00285442</td>\n",
       "      <td>M</td>\n",
       "      <td>7</td>\n",
       "      <td>16</td>\n",
       "      <td>3</td>\n",
       "      <td>4</td>\n",
       "      <td>0</td>\n",
       "      <td>8</td>\n",
       "      <td>9</td>\n",
       "      <td>12</td>\n",
       "      <td>7969</td>\n",
       "      <td>7692.763547</td>\n",
       "      <td>10525.610390</td>\n",
       "      <td>M_0</td>\n",
       "    </tr>\n",
       "  </tbody>\n",
       "</table>\n",
       "</div>"
      ],
      "text/plain": [
       "   Unnamed: 0  User_ID Product_ID Gender  Age  Occupation  City_Category  \\\n",
       "0           0  1000001  P00069042      F    1          10              1   \n",
       "1           1  1000001  P00248942      F    1          10              1   \n",
       "2           2  1000001  P00087842      F    1          10              1   \n",
       "3           3  1000001  P00085442      F    1          10              1   \n",
       "4           4  1000002  P00285442      M    7          16              3   \n",
       "\n",
       "   Stay_In_Current_City_Years  Marital_Status  Product_Category_1  \\\n",
       "0                           2               0                   3   \n",
       "1                           2               0                   1   \n",
       "2                           2               0                  12   \n",
       "3                           2               0                  12   \n",
       "4                           4               0                   8   \n",
       "\n",
       "   Product_Category_2  Product_Category_3  Purchase  Average_Cost  \\\n",
       "0                   9                  12      8370  11870.863436   \n",
       "1                   6                  14     15200  16304.030981   \n",
       "2                   9                  12      1422   1237.892157   \n",
       "3                  14                  12      1057   1455.140762   \n",
       "4                   9                  12      7969   7692.763547   \n",
       "\n",
       "   Buying_Power Combined_G_M  \n",
       "0   9545.514286          F_0  \n",
       "1   9545.514286          F_0  \n",
       "2   9545.514286          F_0  \n",
       "3   9545.514286          F_0  \n",
       "4  10525.610390          M_0  "
      ]
     },
     "execution_count": 80,
     "metadata": {},
     "output_type": "execute_result"
    }
   ],
   "source": [
    "Sales = pd.read_csv(\"Black_Friday_Sales.csv\")\n",
    "Sales.head()"
   ]
  },
  {
   "cell_type": "code",
   "execution_count": 81,
   "id": "745ba338",
   "metadata": {},
   "outputs": [],
   "source": [
    "Sales.drop(\"Unnamed: 0\",axis=1, inplace=True)"
   ]
  },
  {
   "cell_type": "code",
   "execution_count": 82,
   "id": "f659dbd0",
   "metadata": {
    "scrolled": false
   },
   "outputs": [
    {
     "data": {
      "text/html": [
       "<div>\n",
       "<style scoped>\n",
       "    .dataframe tbody tr th:only-of-type {\n",
       "        vertical-align: middle;\n",
       "    }\n",
       "\n",
       "    .dataframe tbody tr th {\n",
       "        vertical-align: top;\n",
       "    }\n",
       "\n",
       "    .dataframe thead th {\n",
       "        text-align: right;\n",
       "    }\n",
       "</style>\n",
       "<table border=\"1\" class=\"dataframe\">\n",
       "  <thead>\n",
       "    <tr style=\"text-align: right;\">\n",
       "      <th></th>\n",
       "      <th>User_ID</th>\n",
       "      <th>Product_ID</th>\n",
       "      <th>Gender</th>\n",
       "      <th>Age</th>\n",
       "      <th>Occupation</th>\n",
       "      <th>City_Category</th>\n",
       "      <th>Stay_In_Current_City_Years</th>\n",
       "      <th>Marital_Status</th>\n",
       "      <th>Product_Category_1</th>\n",
       "      <th>Product_Category_2</th>\n",
       "      <th>Product_Category_3</th>\n",
       "      <th>Purchase</th>\n",
       "      <th>Average_Cost</th>\n",
       "      <th>Buying_Power</th>\n",
       "      <th>Combined_G_M</th>\n",
       "    </tr>\n",
       "  </thead>\n",
       "  <tbody>\n",
       "    <tr>\n",
       "      <th>0</th>\n",
       "      <td>1000001</td>\n",
       "      <td>P00069042</td>\n",
       "      <td>F</td>\n",
       "      <td>1</td>\n",
       "      <td>10</td>\n",
       "      <td>1</td>\n",
       "      <td>2</td>\n",
       "      <td>0</td>\n",
       "      <td>3</td>\n",
       "      <td>9</td>\n",
       "      <td>12</td>\n",
       "      <td>8370</td>\n",
       "      <td>11870.863436</td>\n",
       "      <td>9545.514286</td>\n",
       "      <td>F_0</td>\n",
       "    </tr>\n",
       "    <tr>\n",
       "      <th>1</th>\n",
       "      <td>1000001</td>\n",
       "      <td>P00248942</td>\n",
       "      <td>F</td>\n",
       "      <td>1</td>\n",
       "      <td>10</td>\n",
       "      <td>1</td>\n",
       "      <td>2</td>\n",
       "      <td>0</td>\n",
       "      <td>1</td>\n",
       "      <td>6</td>\n",
       "      <td>14</td>\n",
       "      <td>15200</td>\n",
       "      <td>16304.030981</td>\n",
       "      <td>9545.514286</td>\n",
       "      <td>F_0</td>\n",
       "    </tr>\n",
       "    <tr>\n",
       "      <th>2</th>\n",
       "      <td>1000001</td>\n",
       "      <td>P00087842</td>\n",
       "      <td>F</td>\n",
       "      <td>1</td>\n",
       "      <td>10</td>\n",
       "      <td>1</td>\n",
       "      <td>2</td>\n",
       "      <td>0</td>\n",
       "      <td>12</td>\n",
       "      <td>9</td>\n",
       "      <td>12</td>\n",
       "      <td>1422</td>\n",
       "      <td>1237.892157</td>\n",
       "      <td>9545.514286</td>\n",
       "      <td>F_0</td>\n",
       "    </tr>\n",
       "    <tr>\n",
       "      <th>3</th>\n",
       "      <td>1000001</td>\n",
       "      <td>P00085442</td>\n",
       "      <td>F</td>\n",
       "      <td>1</td>\n",
       "      <td>10</td>\n",
       "      <td>1</td>\n",
       "      <td>2</td>\n",
       "      <td>0</td>\n",
       "      <td>12</td>\n",
       "      <td>14</td>\n",
       "      <td>12</td>\n",
       "      <td>1057</td>\n",
       "      <td>1455.140762</td>\n",
       "      <td>9545.514286</td>\n",
       "      <td>F_0</td>\n",
       "    </tr>\n",
       "    <tr>\n",
       "      <th>4</th>\n",
       "      <td>1000002</td>\n",
       "      <td>P00285442</td>\n",
       "      <td>M</td>\n",
       "      <td>7</td>\n",
       "      <td>16</td>\n",
       "      <td>3</td>\n",
       "      <td>4</td>\n",
       "      <td>0</td>\n",
       "      <td>8</td>\n",
       "      <td>9</td>\n",
       "      <td>12</td>\n",
       "      <td>7969</td>\n",
       "      <td>7692.763547</td>\n",
       "      <td>10525.610390</td>\n",
       "      <td>M_0</td>\n",
       "    </tr>\n",
       "  </tbody>\n",
       "</table>\n",
       "</div>"
      ],
      "text/plain": [
       "   User_ID Product_ID Gender  Age  Occupation  City_Category  \\\n",
       "0  1000001  P00069042      F    1          10              1   \n",
       "1  1000001  P00248942      F    1          10              1   \n",
       "2  1000001  P00087842      F    1          10              1   \n",
       "3  1000001  P00085442      F    1          10              1   \n",
       "4  1000002  P00285442      M    7          16              3   \n",
       "\n",
       "   Stay_In_Current_City_Years  Marital_Status  Product_Category_1  \\\n",
       "0                           2               0                   3   \n",
       "1                           2               0                   1   \n",
       "2                           2               0                  12   \n",
       "3                           2               0                  12   \n",
       "4                           4               0                   8   \n",
       "\n",
       "   Product_Category_2  Product_Category_3  Purchase  Average_Cost  \\\n",
       "0                   9                  12      8370  11870.863436   \n",
       "1                   6                  14     15200  16304.030981   \n",
       "2                   9                  12      1422   1237.892157   \n",
       "3                  14                  12      1057   1455.140762   \n",
       "4                   9                  12      7969   7692.763547   \n",
       "\n",
       "   Buying_Power Combined_G_M  \n",
       "0   9545.514286          F_0  \n",
       "1   9545.514286          F_0  \n",
       "2   9545.514286          F_0  \n",
       "3   9545.514286          F_0  \n",
       "4  10525.610390          M_0  "
      ]
     },
     "execution_count": 82,
     "metadata": {},
     "output_type": "execute_result"
    }
   ],
   "source": [
    "Sales.head()"
   ]
  },
  {
   "cell_type": "code",
   "execution_count": 83,
   "id": "278c2567",
   "metadata": {},
   "outputs": [
    {
     "data": {
      "text/plain": [
       "User_ID                         int64\n",
       "Product_ID                     object\n",
       "Gender                         object\n",
       "Age                             int64\n",
       "Occupation                      int64\n",
       "City_Category                   int64\n",
       "Stay_In_Current_City_Years      int64\n",
       "Marital_Status                  int64\n",
       "Product_Category_1              int64\n",
       "Product_Category_2              int64\n",
       "Product_Category_3              int64\n",
       "Purchase                        int64\n",
       "Average_Cost                  float64\n",
       "Buying_Power                  float64\n",
       "Combined_G_M                   object\n",
       "dtype: object"
      ]
     },
     "execution_count": 83,
     "metadata": {},
     "output_type": "execute_result"
    }
   ],
   "source": [
    "Sales.dtypes"
   ]
  },
  {
   "cell_type": "markdown",
   "id": "cfe80ef2",
   "metadata": {},
   "source": [
    "#### Reference: https://github.com/soumilshah1995/CSVtoMongoDB/blob/master/test.py"
   ]
  },
  {
   "cell_type": "markdown",
   "id": "c8ef2546",
   "metadata": {},
   "source": [
    "### Connection of jupyter notebook to mongo-database using pymongo"
   ]
  },
  {
   "cell_type": "code",
   "execution_count": 84,
   "id": "c7983c8d",
   "metadata": {},
   "outputs": [],
   "source": [
    "import pymongo\n",
    "from pymongo import MongoClient\n",
    "import json"
   ]
  },
  {
   "cell_type": "code",
   "execution_count": 85,
   "id": "fb252dfc",
   "metadata": {},
   "outputs": [
    {
     "name": "stdout",
     "output_type": "stream",
     "text": [
      "All the Data has been Exported to Mongo DB Server .... \n"
     ]
    }
   ],
   "source": [
    "try:\n",
    "    import pymongo\n",
    "    from pymongo import MongoClient\n",
    "    import json\n",
    "except Exception as e:\n",
    "    print(\"Some Modules are Missing \")\n",
    "\n",
    "class MongoDB(object):\n",
    "\n",
    "    def __init__(self, dBName=None, collectionName=None):\n",
    "\n",
    "        self.dBName = dBName\n",
    "        self.collectionName = collectionName\n",
    "\n",
    "        self.client = MongoClient(\"localhost\", 27017, maxPoolSize=50)\n",
    "\n",
    "        self.DB = self.client[self.dBName]\n",
    "        self.collection = self.DB[self.collectionName]\n",
    "\n",
    "\n",
    "\n",
    "    def InsertData(self, path=None):\n",
    "        \"\"\"\n",
    "        :param path: Path os csv File\n",
    "        :return: None\n",
    "        \"\"\"\n",
    "\n",
    "        df = pd.read_csv(path)\n",
    "        data = df.to_dict('records')\n",
    "\n",
    "        self.collection.insert_many(data, ordered=False)\n",
    "        print(\"All the Data has been Exported to Mongo DB Server .... \")\n",
    "\n",
    "if __name__ == \"__main__\":\n",
    "    mongodb = MongoDB(dBName = 'Friday_Sales', collectionName='Sales_Data')\n",
    "    mongodb.InsertData(path=\"Black_Friday_Sales.csv\")"
   ]
  },
  {
   "cell_type": "markdown",
   "id": "84e07195",
   "metadata": {},
   "source": [
    "### Connection from mongo to python using pyspark"
   ]
  },
  {
   "cell_type": "code",
   "execution_count": 86,
   "id": "242e442f",
   "metadata": {},
   "outputs": [],
   "source": [
    "import pyspark\n",
    "from pyspark import SparkContext \n",
    "from pyspark.sql import SparkSession\n",
    "from pyspark.sql import SQLContext"
   ]
  },
  {
   "cell_type": "code",
   "execution_count": 87,
   "id": "aa73253d",
   "metadata": {},
   "outputs": [
    {
     "name": "stdout",
     "output_type": "stream",
     "text": [
      "3.2.1\n"
     ]
    }
   ],
   "source": [
    "print(pyspark.__version__)"
   ]
  },
  {
   "cell_type": "code",
   "execution_count": 88,
   "id": "6e7b36bb",
   "metadata": {},
   "outputs": [],
   "source": [
    "conf = pyspark.SparkConf().set(\"spark.jars.packages\",\n",
    "                              \"org.mongodb.spark:mongo-spark-connector_2.12:3.0.1\").setMaster(\"local\").setAppName(\"My App\").setAll([(\"spark.driver.memory\", \"50g\"), (\"spark.executor.memory\", \"70g\")])"
   ]
  },
  {
   "cell_type": "code",
   "execution_count": 89,
   "id": "7e1851a6",
   "metadata": {},
   "outputs": [],
   "source": [
    "sc = SparkContext(conf=conf)"
   ]
  },
  {
   "cell_type": "code",
   "execution_count": 90,
   "id": "6b5a1770",
   "metadata": {},
   "outputs": [],
   "source": [
    "sqlC = SQLContext(sc)"
   ]
  },
  {
   "cell_type": "code",
   "execution_count": 91,
   "id": "feb57b0c",
   "metadata": {},
   "outputs": [],
   "source": [
    "mongo_ip = \"mongodb://localhost:27017/Friday_Sales.\""
   ]
  },
  {
   "cell_type": "code",
   "execution_count": 92,
   "id": "f6128ed6",
   "metadata": {},
   "outputs": [
    {
     "name": "stdout",
     "output_type": "stream",
     "text": [
      "mongodb://localhost:27017/Friday_Sales.\n"
     ]
    }
   ],
   "source": [
    "print(mongo_ip)"
   ]
  },
  {
   "cell_type": "code",
   "execution_count": 93,
   "id": "32ae128b",
   "metadata": {},
   "outputs": [],
   "source": [
    "Sales = sqlC.read.format(\"com.mongodb.spark.sql.DefaultSource\").option(\"uri\", mongo_ip + \"Sales_Data\").load()"
   ]
  },
  {
   "cell_type": "code",
   "execution_count": 94,
   "id": "aa9e6635",
   "metadata": {},
   "outputs": [],
   "source": [
    "Sales.createOrReplaceTempView(\"Sales\")"
   ]
  },
  {
   "cell_type": "code",
   "execution_count": 95,
   "id": "ef5b64b6",
   "metadata": {},
   "outputs": [],
   "source": [
    "Sales = sqlC.sql(\"SELECT *FROM Sales\")"
   ]
  },
  {
   "cell_type": "code",
   "execution_count": 96,
   "id": "36b876f0",
   "metadata": {
    "scrolled": true
   },
   "outputs": [
    {
     "name": "stdout",
     "output_type": "stream",
     "text": [
      "+---+------------------+------------------+-------------+------------+------+--------------+----------+------------------+------------------+------------------+----------+--------+--------------------------+----------+-------+--------------------+\n",
      "|Age|      Average_Cost|      Buying_Power|City_Category|Combined_G_M|Gender|Marital_Status|Occupation|Product_Category_1|Product_Category_2|Product_Category_3|Product_ID|Purchase|Stay_In_Current_City_Years|Unnamed: 0|User_ID|                 _id|\n",
      "+---+------------------+------------------+-------------+------------+------+--------------+----------+------------------+------------------+------------------+----------+--------+--------------------------+----------+-------+--------------------+\n",
      "|  1|11870.863436123347| 9545.514285714286|            1|         F_0|     F|             0|        10|                 3|                 9|                12| P00069042|    8370|                         2|         0|1000001|{6281b670e547fcb8...|\n",
      "|  1|16304.030981067126| 9545.514285714286|            1|         F_0|     F|             0|        10|                 1|                 6|                14| P00248942|   15200|                         2|         1|1000001|{6281b670e547fcb8...|\n",
      "|  1|1237.8921568627452| 9545.514285714286|            1|         F_0|     F|             0|        10|                12|                 9|                12| P00087842|    1422|                         2|         2|1000001|{6281b670e547fcb8...|\n",
      "|  1|1455.1407624633432| 9545.514285714286|            1|         F_0|     F|             0|        10|                12|                14|                12| P00085442|    1057|                         2|         3|1000001|{6281b670e547fcb8...|\n",
      "|  7|  7692.76354679803| 10525.61038961039|            3|         M_0|     M|             0|        16|                 8|                 9|                12| P00285442|    7969|                         4|         4|1000002|{6281b670e547fcb8...|\n",
      "|  3|14318.772357723576| 11780.51724137931|            1|         M_0|     M|             0|        15|                 1|                 2|                12| P00193542|   15227|                         3|         5|1000003|{6281b670e547fcb8...|\n",
      "|  5|16899.227083333335|14747.714285714286|            2|         M_1|     M|             1|         7|                 1|                 8|                17| P00184942|   19215|                         2|         6|1000004|{6281b670e547fcb8...|\n",
      "|  5|14169.618887015176|14747.714285714286|            2|         M_1|     M|             1|         7|                 1|                15|                12| P00346142|   15854|                         2|         7|1000004|{6281b670e547fcb8...|\n",
      "|  5| 15947.34649122807|14747.714285714286|            2|         M_1|     M|             1|         7|                 1|                16|                12|  P0097242|   15686|                         2|         8|1000004|{6281b670e547fcb8...|\n",
      "|  3| 8068.920554854981| 7745.292452830188|            1|         M_1|     M|             1|        20|                 8|                 9|                12| P00274942|    7871|                         1|         9|1000005|{6281b670e547fcb8...|\n",
      "|  3| 6861.852569502948| 7745.292452830188|            1|         M_1|     M|             1|        20|                 5|                11|                12| P00251242|    5254|                         1|        10|1000005|{6281b670e547fcb8...|\n",
      "|  3| 8070.087797619048| 7745.292452830188|            1|         M_1|     M|             1|        20|                 8|                 9|                12| P00014542|    3957|                         1|        11|1000005|{6281b670e547fcb8...|\n",
      "|  3| 7606.722222222223| 7745.292452830188|            1|         M_1|     M|             1|        20|                 8|                 9|                12| P00031342|    6073|                         1|        12|1000005|{6281b670e547fcb8...|\n",
      "|  3|14517.312944523472| 7745.292452830188|            1|         M_1|     M|             1|        20|                 1|                 2|                 5| P00145042|   15665|                         1|        13|1000005|{6281b670e547fcb8...|\n",
      "|  6| 6021.855421686747| 8083.617021276596|            1|         F_0|     F|             0|         9|                 5|                 8|                14| P00231342|    5378|                         1|        14|1000006|{6281b670e547fcb8...|\n",
      "|  6|2030.2263157894736| 8083.617021276596|            1|         F_0|     F|             0|         9|                 4|                 5|                12| P00190242|    2079|                         1|        15|1000006|{6281b670e547fcb8...|\n",
      "|  6|10261.281609195405| 8083.617021276596|            1|         F_0|     F|             0|         9|                 2|                 3|                 4|  P0096642|   13055|                         1|        16|1000006|{6281b670e547fcb8...|\n",
      "|  6| 6397.527173913043| 8083.617021276596|            1|         F_0|     F|             0|         9|                 5|                14|                12| P00058442|    8851|                         1|        17|1000006|{6281b670e547fcb8...|\n",
      "|  4| 13817.04524886878|           13804.0|            2|         M_1|     M|             1|         1|                 1|                14|                16| P00036842|   11788|                         1|        18|1000007|{6281b670e547fcb8...|\n",
      "|  3|11768.340127388536|10345.363636363636|            3|         M_1|     M|             1|        12|                 1|                 5|                15| P00249542|   19614|                         4|        19|1000008|{6281b670e547fcb8...|\n",
      "+---+------------------+------------------+-------------+------------+------+--------------+----------+------------------+------------------+------------------+----------+--------+--------------------------+----------+-------+--------------------+\n",
      "only showing top 20 rows\n",
      "\n"
     ]
    }
   ],
   "source": [
    "Sales.show()"
   ]
  },
  {
   "cell_type": "code",
   "execution_count": 97,
   "id": "4f7aacb3",
   "metadata": {},
   "outputs": [
    {
     "name": "stdout",
     "output_type": "stream",
     "text": [
      "root\n",
      " |-- Age: integer (nullable = true)\n",
      " |-- Average_Cost: double (nullable = true)\n",
      " |-- Buying_Power: double (nullable = true)\n",
      " |-- City_Category: integer (nullable = true)\n",
      " |-- Combined_G_M: string (nullable = true)\n",
      " |-- Gender: string (nullable = true)\n",
      " |-- Marital_Status: integer (nullable = true)\n",
      " |-- Occupation: integer (nullable = true)\n",
      " |-- Product_Category_1: integer (nullable = true)\n",
      " |-- Product_Category_2: integer (nullable = true)\n",
      " |-- Product_Category_3: integer (nullable = true)\n",
      " |-- Product_ID: string (nullable = true)\n",
      " |-- Purchase: integer (nullable = true)\n",
      " |-- Stay_In_Current_City_Years: integer (nullable = true)\n",
      " |-- Unnamed: 0: integer (nullable = true)\n",
      " |-- User_ID: integer (nullable = true)\n",
      " |-- _id: struct (nullable = true)\n",
      " |    |-- oid: string (nullable = true)\n",
      "\n"
     ]
    }
   ],
   "source": [
    "Sales.printSchema()"
   ]
  },
  {
   "cell_type": "markdown",
   "id": "638a3500",
   "metadata": {},
   "source": [
    "#### Reference: https://www.youtube.com/watch?v=Rz-u0RExZtg&t=173s"
   ]
  },
  {
   "cell_type": "code",
   "execution_count": 98,
   "id": "723f18be",
   "metadata": {
    "scrolled": false
   },
   "outputs": [
    {
     "name": "stdout",
     "output_type": "stream",
     "text": [
      "+---+------------------+-----------------+-------------+------------+------+--------------+----------+------------------+------------------+------------------+----------+--------+--------------------------+----------+-------+--------------------+\n",
      "|Age|      Average_Cost|     Buying_Power|City_Category|Combined_G_M|Gender|Marital_Status|Occupation|Product_Category_1|Product_Category_2|Product_Category_3|Product_ID|Purchase|Stay_In_Current_City_Years|Unnamed: 0|User_ID|                 _id|\n",
      "+---+------------------+-----------------+-------------+------------+------+--------------+----------+------------------+------------------+------------------+----------+--------+--------------------------+----------+-------+--------------------+\n",
      "|  1|11870.863436123347|9545.514285714286|            1|         F_0|     F|             0|        10|                 3|                 9|                12| P00069042|    8370|                         2|         0|1000001|{6281b670e547fcb8...|\n",
      "|  1|16304.030981067126|9545.514285714286|            1|         F_0|     F|             0|        10|                 1|                 6|                14| P00248942|   15200|                         2|         1|1000001|{6281b670e547fcb8...|\n",
      "|  1|1237.8921568627452|9545.514285714286|            1|         F_0|     F|             0|        10|                12|                 9|                12| P00087842|    1422|                         2|         2|1000001|{6281b670e547fcb8...|\n",
      "|  1|1455.1407624633432|9545.514285714286|            1|         F_0|     F|             0|        10|                12|                14|                12| P00085442|    1057|                         2|         3|1000001|{6281b670e547fcb8...|\n",
      "|  7|  7692.76354679803|10525.61038961039|            3|         M_0|     M|             0|        16|                 8|                 9|                12| P00285442|    7969|                         4|         4|1000002|{6281b670e547fcb8...|\n",
      "+---+------------------+-----------------+-------------+------------+------+--------------+----------+------------------+------------------+------------------+----------+--------+--------------------------+----------+-------+--------------------+\n",
      "only showing top 5 rows\n",
      "\n"
     ]
    }
   ],
   "source": [
    "Sales.show(5)"
   ]
  },
  {
   "cell_type": "code",
   "execution_count": 99,
   "id": "fa659dd6",
   "metadata": {
    "scrolled": true
   },
   "outputs": [
    {
     "name": "stdout",
     "output_type": "stream",
     "text": [
      "root\n",
      " |-- Age: integer (nullable = true)\n",
      " |-- Average_Cost: double (nullable = true)\n",
      " |-- Buying_Power: double (nullable = true)\n",
      " |-- City_Category: integer (nullable = true)\n",
      " |-- Combined_G_M: string (nullable = true)\n",
      " |-- Gender: string (nullable = true)\n",
      " |-- Marital_Status: integer (nullable = true)\n",
      " |-- Occupation: integer (nullable = true)\n",
      " |-- Product_Category_1: integer (nullable = true)\n",
      " |-- Product_Category_2: integer (nullable = true)\n",
      " |-- Product_Category_3: integer (nullable = true)\n",
      " |-- Product_ID: string (nullable = true)\n",
      " |-- Purchase: integer (nullable = true)\n",
      " |-- Stay_In_Current_City_Years: integer (nullable = true)\n",
      " |-- Unnamed: 0: integer (nullable = true)\n",
      " |-- User_ID: integer (nullable = true)\n",
      " |-- _id: struct (nullable = true)\n",
      " |    |-- oid: string (nullable = true)\n",
      "\n"
     ]
    }
   ],
   "source": [
    "Sales.printSchema()"
   ]
  },
  {
   "cell_type": "code",
   "execution_count": 100,
   "id": "78b8b19e",
   "metadata": {},
   "outputs": [],
   "source": [
    "Sales = Sales.drop(\"Combined_G_M\",\"_c0\",\"User_ID\",\"Product_ID\", 'Average_Cost', 'Buying_Power','Unnamed: 0','_id')"
   ]
  },
  {
   "cell_type": "markdown",
   "id": "55407f21",
   "metadata": {},
   "source": [
    "> Dropping columns not necessary for modeling"
   ]
  },
  {
   "cell_type": "code",
   "execution_count": 101,
   "id": "148a7926",
   "metadata": {
    "scrolled": true
   },
   "outputs": [
    {
     "name": "stdout",
     "output_type": "stream",
     "text": [
      "root\n",
      " |-- Age: integer (nullable = true)\n",
      " |-- City_Category: integer (nullable = true)\n",
      " |-- Gender: string (nullable = true)\n",
      " |-- Marital_Status: integer (nullable = true)\n",
      " |-- Occupation: integer (nullable = true)\n",
      " |-- Product_Category_1: integer (nullable = true)\n",
      " |-- Product_Category_2: integer (nullable = true)\n",
      " |-- Product_Category_3: integer (nullable = true)\n",
      " |-- Purchase: integer (nullable = true)\n",
      " |-- Stay_In_Current_City_Years: integer (nullable = true)\n",
      "\n"
     ]
    }
   ],
   "source": [
    "Sales.printSchema()"
   ]
  },
  {
   "cell_type": "code",
   "execution_count": 102,
   "id": "7fb09d07",
   "metadata": {},
   "outputs": [
    {
     "name": "stdout",
     "output_type": "stream",
     "text": [
      "+---+-------------+------+--------------+----------+------------------+------------------+------------------+--------+--------------------------+\n",
      "|Age|City_Category|Gender|Marital_Status|Occupation|Product_Category_1|Product_Category_2|Product_Category_3|Purchase|Stay_In_Current_City_Years|\n",
      "+---+-------------+------+--------------+----------+------------------+------------------+------------------+--------+--------------------------+\n",
      "|  1|            1|     F|             0|        10|                 3|                 9|                12|    8370|                         2|\n",
      "|  1|            1|     F|             0|        10|                 1|                 6|                14|   15200|                         2|\n",
      "|  1|            1|     F|             0|        10|                12|                 9|                12|    1422|                         2|\n",
      "|  1|            1|     F|             0|        10|                12|                14|                12|    1057|                         2|\n",
      "|  7|            3|     M|             0|        16|                 8|                 9|                12|    7969|                         4|\n",
      "+---+-------------+------+--------------+----------+------------------+------------------+------------------+--------+--------------------------+\n",
      "only showing top 5 rows\n",
      "\n"
     ]
    }
   ],
   "source": [
    "Sales.show(5)"
   ]
  },
  {
   "cell_type": "markdown",
   "id": "4d8fa174",
   "metadata": {},
   "source": [
    "## Splitting data into two new data's"
   ]
  },
  {
   "cell_type": "code",
   "execution_count": 103,
   "id": "7e77f098",
   "metadata": {
    "scrolled": false
   },
   "outputs": [],
   "source": [
    "new_data_1, new_data_2 = Sales.randomSplit([0.6, 0.4], seed = 2018)"
   ]
  },
  {
   "cell_type": "code",
   "execution_count": 104,
   "id": "e47ca4a5",
   "metadata": {
    "scrolled": true
   },
   "outputs": [
    {
     "data": {
      "text/plain": [
       "['Age',\n",
       " 'City_Category',\n",
       " 'Gender',\n",
       " 'Marital_Status',\n",
       " 'Occupation',\n",
       " 'Product_Category_1',\n",
       " 'Product_Category_2',\n",
       " 'Product_Category_3',\n",
       " 'Purchase',\n",
       " 'Stay_In_Current_City_Years',\n",
       " 'Gender_index']"
      ]
     },
     "execution_count": 104,
     "metadata": {},
     "output_type": "execute_result"
    }
   ],
   "source": [
    "from pyspark.ml import Pipeline\n",
    "from pyspark.ml.feature import StringIndexer\n",
    "\n",
    "indexers = StringIndexer(inputCol='Gender', outputCol=\"Gender_index\")\n",
    "indexed = indexers.fit(new_data_2).transform(new_data_2)\n",
    "indexed.columns\n"
   ]
  },
  {
   "cell_type": "code",
   "execution_count": 105,
   "id": "0180414f",
   "metadata": {
    "scrolled": true
   },
   "outputs": [],
   "source": [
    "Sales_r = indexed.drop('Gender')"
   ]
  },
  {
   "cell_type": "code",
   "execution_count": 106,
   "id": "47e87e77",
   "metadata": {
    "scrolled": false
   },
   "outputs": [
    {
     "name": "stdout",
     "output_type": "stream",
     "text": [
      "+---+-------------+--------------+----------+------------------+------------------+------------------+--------+--------------------------+------------+\n",
      "|Age|City_Category|Marital_Status|Occupation|Product_Category_1|Product_Category_2|Product_Category_3|Purchase|Stay_In_Current_City_Years|Gender_index|\n",
      "+---+-------------+--------------+----------+------------------+------------------+------------------+--------+--------------------------+------------+\n",
      "|  1|            1|             0|         0|                 8|                 9|                12|    9835|                         2|         1.0|\n",
      "|  1|            1|             0|        10|                 1|                 2|                12|   15289|                         1|         1.0|\n",
      "|  1|            1|             0|        10|                 1|                 2|                15|   15890|                         3|         1.0|\n",
      "|  1|            1|             0|        10|                 1|                 5|                 6|   15658|                         3|         1.0|\n",
      "|  1|            1|             0|        10|                 1|                 5|                 8|   19471|                         1|         1.0|\n",
      "+---+-------------+--------------+----------+------------------+------------------+------------------+--------+--------------------------+------------+\n",
      "only showing top 5 rows\n",
      "\n"
     ]
    }
   ],
   "source": [
    "Sales_r.show(5)"
   ]
  },
  {
   "cell_type": "code",
   "execution_count": 107,
   "id": "d6b00da3",
   "metadata": {},
   "outputs": [
    {
     "name": "stdout",
     "output_type": "stream",
     "text": [
      "+--------------------+--------+\n",
      "|            features|Purchase|\n",
      "+--------------------+--------+\n",
      "|[1.0,0.0,1.0,2.0,...|    9835|\n",
      "|[1.0,10.0,1.0,1.0...|   15289|\n",
      "|[1.0,10.0,1.0,3.0...|   15890|\n",
      "|[1.0,10.0,1.0,3.0...|   15658|\n",
      "|[1.0,10.0,1.0,1.0...|   19471|\n",
      "+--------------------+--------+\n",
      "only showing top 5 rows\n",
      "\n"
     ]
    }
   ],
   "source": [
    "from pyspark.ml.linalg import Vectors\n",
    "from pyspark.ml.feature import VectorAssembler\n",
    "\n",
    "#creating vectors from features\n",
    "#Apache MLlib takes input if vector form\n",
    "\n",
    "assembler=VectorAssembler(inputCols=[ 'Age',\n",
    " 'Occupation',\n",
    " 'City_Category',\n",
    " 'Stay_In_Current_City_Years',\n",
    " 'Marital_Status',\n",
    " 'Product_Category_1',\n",
    " 'Product_Category_2',\n",
    " 'Product_Category_3',\n",
    " 'Gender_index'],outputCol='features')\n",
    "output=assembler.transform(indexed)\n",
    "output.select('features','Purchase').show(5)\n",
    "#output as below"
   ]
  },
  {
   "cell_type": "markdown",
   "id": "b1a8c446",
   "metadata": {},
   "source": [
    "> VectorAssembler is a transformer that combines a given list of columns into a single vector column."
   ]
  },
  {
   "cell_type": "code",
   "execution_count": 108,
   "id": "a4431005",
   "metadata": {},
   "outputs": [],
   "source": [
    "final_data=output.select('features','Purchase')\n",
    "\n",
    "train_data,test_data=final_data.randomSplit([0.8,0.2])\n"
   ]
  },
  {
   "cell_type": "markdown",
   "id": "49b8a891",
   "metadata": {},
   "source": [
    "> Random split of the data into train and test"
   ]
  },
  {
   "cell_type": "markdown",
   "id": "8ccecba5",
   "metadata": {},
   "source": [
    "### Linear Regression"
   ]
  },
  {
   "cell_type": "code",
   "execution_count": 109,
   "id": "fb8ed9d6",
   "metadata": {},
   "outputs": [
    {
     "name": "stdout",
     "output_type": "stream",
     "text": [
      "Rsquared Error : 0.1284127518997259\n"
     ]
    }
   ],
   "source": [
    "#import LinearRegression library\n",
    "from pyspark.ml.regression import LinearRegression\n",
    "\n",
    "#creating an object of class LinearRegression\n",
    "#object takes features and label as input arguments\n",
    "Sales_lr=LinearRegression(featuresCol='features',labelCol='Purchase')\n",
    "\n",
    "#pass train_data to train model\n",
    "trained_sale_model=Sales_lr.fit(train_data)\n",
    "\n",
    "#evaluating model trained for Rsquared error\n",
    "sale_results=trained_sale_model.evaluate(train_data)\n",
    "  \n",
    "print('Rsquared Error :',sale_results.r2)"
   ]
  },
  {
   "cell_type": "markdown",
   "id": "f0d88615",
   "metadata": {},
   "source": [
    "> If we observe the score of the linear regression, it performs very poor on this data set as it has only 12% of accuracy"
   ]
  },
  {
   "cell_type": "code",
   "execution_count": 110,
   "id": "30bd14bf",
   "metadata": {},
   "outputs": [
    {
     "name": "stdout",
     "output_type": "stream",
     "text": [
      "+--------------------+\n",
      "|            features|\n",
      "+--------------------+\n",
      "|[1.0,10.0,3.0,1.0...|\n",
      "|[1.0,10.0,3.0,1.0...|\n",
      "|[2.0,0.0,1.0,0.0,...|\n",
      "|[2.0,1.0,2.0,2.0,...|\n",
      "|[2.0,2.0,2.0,3.0,...|\n",
      "+--------------------+\n",
      "only showing top 5 rows\n",
      "\n"
     ]
    }
   ],
   "source": [
    "#testing Model on unlabeled data\n",
    "#create unlabeled data from test_data\n",
    "#testing model on unlabeled data\n",
    "unlabeled_data=test_data.select('features')\n",
    "unlabeled_data.show(5)"
   ]
  },
  {
   "cell_type": "code",
   "execution_count": 111,
   "id": "49fb500b",
   "metadata": {
    "scrolled": true
   },
   "outputs": [
    {
     "name": "stdout",
     "output_type": "stream",
     "text": [
      "+--------------------+------------------+\n",
      "|            features|        prediction|\n",
      "+--------------------+------------------+\n",
      "|[1.0,0.0,2.0,2.0,...| 9200.958223160998|\n",
      "|[1.0,0.0,2.0,3.0,...|11695.570736589829|\n",
      "|[1.0,10.0,1.0,0.0...| 8090.713458047721|\n",
      "|[1.0,10.0,1.0,2.0...|5219.2131826775785|\n",
      "|[1.0,10.0,1.0,3.0...|10317.544386500782|\n",
      "|[1.0,10.0,1.0,3.0...| 10037.88689884714|\n",
      "|[1.0,10.0,1.0,3.0...| 8866.958735617125|\n",
      "|[1.0,10.0,1.0,3.0...|10121.981302725584|\n",
      "|[1.0,10.0,1.0,3.0...|  8079.41209290963|\n",
      "|[1.0,10.0,1.0,3.0...| 8004.214558492504|\n",
      "|[1.0,10.0,2.0,1.0...| 11582.14704531738|\n",
      "|[1.0,10.0,2.0,1.0...|10458.109400939908|\n",
      "|[1.0,10.0,2.0,3.0...|10680.093132645314|\n",
      "|[1.0,10.0,2.0,3.0...|5465.7215683349605|\n",
      "|[1.0,10.0,3.0,0.0...|10573.774643651475|\n",
      "|[1.0,10.0,3.0,0.0...|10808.264116364171|\n",
      "|[1.0,10.0,3.0,0.0...|10323.928577383509|\n",
      "|[1.0,10.0,3.0,0.0...| 9614.000435151469|\n",
      "|[1.0,10.0,3.0,0.0...| 9614.000435151469|\n",
      "|[1.0,10.0,3.0,0.0...| 8386.586421460861|\n",
      "+--------------------+------------------+\n",
      "only showing top 20 rows\n",
      "\n"
     ]
    }
   ],
   "source": [
    "predictions=trained_sale_model.transform(unlabeled_data)\n",
    "predictions.show()\n",
    "#below are the results of output from test data"
   ]
  },
  {
   "cell_type": "markdown",
   "id": "8742af6a",
   "metadata": {},
   "source": [
    "> Predictions of unlabeled data"
   ]
  },
  {
   "cell_type": "markdown",
   "id": "8ce725eb",
   "metadata": {},
   "source": [
    "### Decision Tree Regression"
   ]
  },
  {
   "cell_type": "code",
   "execution_count": 123,
   "id": "8620af45",
   "metadata": {},
   "outputs": [],
   "source": [
    "from pyspark.ml.regression import DecisionTreeRegressor\n",
    "from pyspark.ml.evaluation import RegressionEvaluator\n",
    "\n",
    "#creating an object of class LinearRegression\n",
    "#object takes features and label as input arguments\n",
    "\n",
    "test_dt=DecisionTreeRegressor(featuresCol='features',labelCol='Purchase')"
   ]
  },
  {
   "cell_type": "code",
   "execution_count": 129,
   "id": "02399229",
   "metadata": {},
   "outputs": [],
   "source": [
    "test_b = test_data.select('features', test_data.Purchase.alias('label'))"
   ]
  },
  {
   "cell_type": "code",
   "execution_count": 126,
   "id": "18b9f5b2",
   "metadata": {},
   "outputs": [],
   "source": [
    "#pass train_data to train model\n",
    "dt_model=test_dt.fit(train_data)"
   ]
  },
  {
   "cell_type": "code",
   "execution_count": 131,
   "id": "60a941ac",
   "metadata": {},
   "outputs": [],
   "source": [
    "test_dt_t = dt_model.transform(test_b)"
   ]
  },
  {
   "cell_type": "code",
   "execution_count": 132,
   "id": "885cc13c",
   "metadata": {},
   "outputs": [
    {
     "name": "stdout",
     "output_type": "stream",
     "text": [
      "0.5776606902181751\n"
     ]
    }
   ],
   "source": [
    "evaluator = RegressionEvaluator()\n",
    "print(evaluator.evaluate(test_dt_t,\n",
    "{evaluator.metricName: \"r2\"})\n",
    ")"
   ]
  },
  {
   "cell_type": "markdown",
   "id": "64136a8d",
   "metadata": {},
   "source": [
    "> If we observe decision tree accuracy score, the score is about 60% where it performs better than the linear regression on this data."
   ]
  },
  {
   "cell_type": "markdown",
   "id": "fbff60bd",
   "metadata": {},
   "source": [
    "### Summary"
   ]
  },
  {
   "cell_type": "markdown",
   "id": "c3ab997e",
   "metadata": {},
   "source": [
    "As per my scores I can say that \"Decision Tree Regression\" works well for my data as it has 60% o accuracy towards my data.\n",
    "- Linear Regression: 12%\n",
    "- Decision Tree Regression: 60%"
   ]
  },
  {
   "cell_type": "markdown",
   "id": "88bc5dba",
   "metadata": {},
   "source": [
    "### References\n",
    "- https://www.kaggle.com/code/kuchhbhi/black-friday-eda-and-feature-transformation\n",
    "- https://github.com/nanthasnk/Black-Friday-Sales-Prediction/blob/master/Black%20Friday%20Sales%20Prediction.ipynb\n",
    "- https://medium.com/analytics-vidhya/sales-prediction-on-black-friday-using-ml-regression-technique-380af62c181e\n",
    "- https://www.geeksforgeeks.org/pyspark-linear-regression-using-apache-mllib/\n",
    "- https://medium.com/analytics-vidhya/linear-regression-and-decision-tree-implementation-using-pyspark-bfcd93dee86"
   ]
  },
  {
   "cell_type": "code",
   "execution_count": null,
   "id": "d4cb5ed8",
   "metadata": {},
   "outputs": [],
   "source": []
  }
 ],
 "metadata": {
  "kernelspec": {
   "display_name": "Python 3",
   "language": "python",
   "name": "python3"
  },
  "language_info": {
   "codemirror_mode": {
    "name": "ipython",
    "version": 3
   },
   "file_extension": ".py",
   "mimetype": "text/x-python",
   "name": "python",
   "nbconvert_exporter": "python",
   "pygments_lexer": "ipython3",
   "version": "3.8.8"
  }
 },
 "nbformat": 4,
 "nbformat_minor": 5
}
